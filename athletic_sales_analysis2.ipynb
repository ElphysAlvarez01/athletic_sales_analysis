{
 "cells": [
  {
   "cell_type": "code",
   "execution_count": 29,
   "metadata": {},
   "outputs": [],
   "source": [
    "# Import Libraries and Dependencies\n",
    "import pandas as pd"
   ]
  },
  {
   "cell_type": "markdown",
   "metadata": {},
   "source": [
    "### 1. Combine and Clean the Data\n",
    "#### Import CSVs"
   ]
  },
  {
   "cell_type": "code",
   "execution_count": 30,
   "metadata": {},
   "outputs": [
    {
     "name": "stdout",
     "output_type": "stream",
     "text": [
      "         retailer  retailer_id invoice_date     region         state  \\\n",
      "0     Foot Locker      1185732       1/1/20  Northeast      New York   \n",
      "1     Foot Locker      1185732       1/1/20  Northeast  Pennsylvania   \n",
      "2     Foot Locker      1185732       1/1/20  Northeast  Pennsylvania   \n",
      "3     Foot Locker      1185732       1/1/20  Northeast      New York   \n",
      "4     Foot Locker      1185732       1/1/20  Northeast  Pennsylvania   \n",
      "...           ...          ...          ...        ...           ...   \n",
      "1292    West Gear      1128299     12/30/20       West    California   \n",
      "1293    West Gear      1128299     12/30/20       West    California   \n",
      "1294       Kohl's      1189833     12/30/20    Midwest     Minnesota   \n",
      "1295       Kohl's      1189833     12/30/20    Midwest     Minnesota   \n",
      "1296    West Gear      1128299     12/30/20       West    California   \n",
      "\n",
      "               city                  product  price_per_unit  units_sold  \\\n",
      "0          New York    Men's Street Footwear              50        1200   \n",
      "1      Philadelphia          Women's Apparel              68          83   \n",
      "2      Philadelphia          Women's Apparel              75         275   \n",
      "3          New York    Men's Street Footwear              34         384   \n",
      "4      Philadelphia          Women's Apparel              53          83   \n",
      "...             ...                      ...             ...         ...   \n",
      "1292  San Francisco          Women's Apparel              72         203   \n",
      "1293  San Francisco          Women's Apparel              80         700   \n",
      "1294    Minneapolis  Women's Street Footwear              41         119   \n",
      "1295    Minneapolis  Women's Street Footwear              45         475   \n",
      "1296  San Francisco          Women's Apparel              62         245   \n",
      "\n",
      "      total_sales  operating_profit sales_method  \n",
      "0          600000         300000.00     In-store  \n",
      "1            5644           2426.92       Online  \n",
      "2          206250          61875.00       Outlet  \n",
      "3           13056           6789.12       Outlet  \n",
      "4            4399           1407.68       Outlet  \n",
      "...           ...               ...          ...  \n",
      "1292        14616           3946.32       Online  \n",
      "1293       560000          84000.00       Outlet  \n",
      "1294         4879           2878.61       Online  \n",
      "1295       213750          96187.50       Outlet  \n",
      "1296        15190           2886.10       Outlet  \n",
      "\n",
      "[1297 rows x 12 columns]\n",
      "         retailer  retailer_id invoice_date     region         state  \\\n",
      "0       West Gear      1128299       1/1/21       West    California   \n",
      "1       West Gear      1128299       1/1/21       West    California   \n",
      "2          Kohl's      1189833       1/1/21    Midwest       Montana   \n",
      "3          Kohl's      1189833       1/1/21    Midwest       Montana   \n",
      "4       West Gear      1128299       1/1/21       West    California   \n",
      "...           ...          ...          ...        ...           ...   \n",
      "8341  Foot Locker      1185732     12/31/21  Northeast  Pennsylvania   \n",
      "8342  Foot Locker      1185732     12/31/21  Northeast  Pennsylvania   \n",
      "8343       Amazon      1185732     12/31/21  Northeast         Maine   \n",
      "8344       Amazon      1185732     12/31/21  Northeast         Maine   \n",
      "8345  Foot Locker      1185732     12/31/21  Northeast  Pennsylvania   \n",
      "\n",
      "               city                  product  price_per_unit  units_sold  \\\n",
      "0     San Francisco  Men's Athletic Footwear              65         750   \n",
      "1     San Francisco  Men's Athletic Footwear              51         233   \n",
      "2          Billings            Men's Apparel              50         275   \n",
      "3          Billings            Men's Apparel              47          77   \n",
      "4     San Francisco  Men's Athletic Footwear              64         225   \n",
      "...             ...                      ...             ...         ...   \n",
      "8341   Philadelphia            Men's Apparel              63          47   \n",
      "8342   Philadelphia            Men's Apparel              46          56   \n",
      "8343       Portland            Men's Apparel              52          36   \n",
      "8344       Portland            Men's Apparel              55         125   \n",
      "8345   Philadelphia            Men's Apparel              70         175   \n",
      "\n",
      "      total_sales  operating_profit sales_method  \n",
      "0          487500         121875.00       Outlet  \n",
      "1           11883           3208.41       Outlet  \n",
      "2          137500          82500.00       Outlet  \n",
      "3            3619           2714.25       Online  \n",
      "4           14400           5184.00       Online  \n",
      "...           ...               ...          ...  \n",
      "8341         2961           1362.06       Online  \n",
      "8342         2576           1004.64       Outlet  \n",
      "8343         1872            692.64       Online  \n",
      "8344        68750          17187.50       Outlet  \n",
      "8345       122500          42875.00       Outlet  \n",
      "\n",
      "[8346 rows x 12 columns]\n"
     ]
    }
   ],
   "source": [
    "# Read the CSV files into DataFrames.\n",
    "file_path_2020 = \"Resources/athletic_sales_2020.csv\"\n",
    "file_path_2021 = \"Resources/athletic_sales_2021.csv\"\n",
    "\n",
    "# Read the CSV file into a DataFrame\n",
    "athletic_sales_2020 = pd.read_csv(file_path_2020)\n",
    "athletic_sales_2021 = pd.read_csv(file_path_2021)\n",
    "\n",
    "# Display the DataFrame\n",
    "print(athletic_sales_2020)\n",
    "print(athletic_sales_2021)"
   ]
  },
  {
   "cell_type": "code",
   "execution_count": 31,
   "metadata": {},
   "outputs": [
    {
     "data": {
      "text/html": [
       "<div>\n",
       "<style scoped>\n",
       "    .dataframe tbody tr th:only-of-type {\n",
       "        vertical-align: middle;\n",
       "    }\n",
       "\n",
       "    .dataframe tbody tr th {\n",
       "        vertical-align: top;\n",
       "    }\n",
       "\n",
       "    .dataframe thead th {\n",
       "        text-align: right;\n",
       "    }\n",
       "</style>\n",
       "<table border=\"1\" class=\"dataframe\">\n",
       "  <thead>\n",
       "    <tr style=\"text-align: right;\">\n",
       "      <th></th>\n",
       "      <th>retailer</th>\n",
       "      <th>retailer_id</th>\n",
       "      <th>invoice_date</th>\n",
       "      <th>region</th>\n",
       "      <th>state</th>\n",
       "      <th>city</th>\n",
       "      <th>product</th>\n",
       "      <th>price_per_unit</th>\n",
       "      <th>units_sold</th>\n",
       "      <th>total_sales</th>\n",
       "      <th>operating_profit</th>\n",
       "      <th>sales_method</th>\n",
       "    </tr>\n",
       "  </thead>\n",
       "  <tbody>\n",
       "    <tr>\n",
       "      <th>0</th>\n",
       "      <td>Foot Locker</td>\n",
       "      <td>1185732</td>\n",
       "      <td>1/1/20</td>\n",
       "      <td>Northeast</td>\n",
       "      <td>New York</td>\n",
       "      <td>New York</td>\n",
       "      <td>Men's Street Footwear</td>\n",
       "      <td>50</td>\n",
       "      <td>1200</td>\n",
       "      <td>600000</td>\n",
       "      <td>300000.00</td>\n",
       "      <td>In-store</td>\n",
       "    </tr>\n",
       "    <tr>\n",
       "      <th>1</th>\n",
       "      <td>Foot Locker</td>\n",
       "      <td>1185732</td>\n",
       "      <td>1/1/20</td>\n",
       "      <td>Northeast</td>\n",
       "      <td>Pennsylvania</td>\n",
       "      <td>Philadelphia</td>\n",
       "      <td>Women's Apparel</td>\n",
       "      <td>68</td>\n",
       "      <td>83</td>\n",
       "      <td>5644</td>\n",
       "      <td>2426.92</td>\n",
       "      <td>Online</td>\n",
       "    </tr>\n",
       "    <tr>\n",
       "      <th>2</th>\n",
       "      <td>Foot Locker</td>\n",
       "      <td>1185732</td>\n",
       "      <td>1/1/20</td>\n",
       "      <td>Northeast</td>\n",
       "      <td>Pennsylvania</td>\n",
       "      <td>Philadelphia</td>\n",
       "      <td>Women's Apparel</td>\n",
       "      <td>75</td>\n",
       "      <td>275</td>\n",
       "      <td>206250</td>\n",
       "      <td>61875.00</td>\n",
       "      <td>Outlet</td>\n",
       "    </tr>\n",
       "    <tr>\n",
       "      <th>3</th>\n",
       "      <td>Foot Locker</td>\n",
       "      <td>1185732</td>\n",
       "      <td>1/1/20</td>\n",
       "      <td>Northeast</td>\n",
       "      <td>New York</td>\n",
       "      <td>New York</td>\n",
       "      <td>Men's Street Footwear</td>\n",
       "      <td>34</td>\n",
       "      <td>384</td>\n",
       "      <td>13056</td>\n",
       "      <td>6789.12</td>\n",
       "      <td>Outlet</td>\n",
       "    </tr>\n",
       "    <tr>\n",
       "      <th>4</th>\n",
       "      <td>Foot Locker</td>\n",
       "      <td>1185732</td>\n",
       "      <td>1/1/20</td>\n",
       "      <td>Northeast</td>\n",
       "      <td>Pennsylvania</td>\n",
       "      <td>Philadelphia</td>\n",
       "      <td>Women's Apparel</td>\n",
       "      <td>53</td>\n",
       "      <td>83</td>\n",
       "      <td>4399</td>\n",
       "      <td>1407.68</td>\n",
       "      <td>Outlet</td>\n",
       "    </tr>\n",
       "  </tbody>\n",
       "</table>\n",
       "</div>"
      ],
      "text/plain": [
       "      retailer  retailer_id invoice_date     region         state  \\\n",
       "0  Foot Locker      1185732       1/1/20  Northeast      New York   \n",
       "1  Foot Locker      1185732       1/1/20  Northeast  Pennsylvania   \n",
       "2  Foot Locker      1185732       1/1/20  Northeast  Pennsylvania   \n",
       "3  Foot Locker      1185732       1/1/20  Northeast      New York   \n",
       "4  Foot Locker      1185732       1/1/20  Northeast  Pennsylvania   \n",
       "\n",
       "           city                product  price_per_unit  units_sold  \\\n",
       "0      New York  Men's Street Footwear              50        1200   \n",
       "1  Philadelphia        Women's Apparel              68          83   \n",
       "2  Philadelphia        Women's Apparel              75         275   \n",
       "3      New York  Men's Street Footwear              34         384   \n",
       "4  Philadelphia        Women's Apparel              53          83   \n",
       "\n",
       "   total_sales  operating_profit sales_method  \n",
       "0       600000         300000.00     In-store  \n",
       "1         5644           2426.92       Online  \n",
       "2       206250          61875.00       Outlet  \n",
       "3        13056           6789.12       Outlet  \n",
       "4         4399           1407.68       Outlet  "
      ]
     },
     "execution_count": 31,
     "metadata": {},
     "output_type": "execute_result"
    }
   ],
   "source": [
    "# Display the 2020 sales DataFrame\n",
    "athletic_sales_2020.head()"
   ]
  },
  {
   "cell_type": "code",
   "execution_count": 32,
   "metadata": {},
   "outputs": [
    {
     "data": {
      "text/html": [
       "<div>\n",
       "<style scoped>\n",
       "    .dataframe tbody tr th:only-of-type {\n",
       "        vertical-align: middle;\n",
       "    }\n",
       "\n",
       "    .dataframe tbody tr th {\n",
       "        vertical-align: top;\n",
       "    }\n",
       "\n",
       "    .dataframe thead th {\n",
       "        text-align: right;\n",
       "    }\n",
       "</style>\n",
       "<table border=\"1\" class=\"dataframe\">\n",
       "  <thead>\n",
       "    <tr style=\"text-align: right;\">\n",
       "      <th></th>\n",
       "      <th>retailer</th>\n",
       "      <th>retailer_id</th>\n",
       "      <th>invoice_date</th>\n",
       "      <th>region</th>\n",
       "      <th>state</th>\n",
       "      <th>city</th>\n",
       "      <th>product</th>\n",
       "      <th>price_per_unit</th>\n",
       "      <th>units_sold</th>\n",
       "      <th>total_sales</th>\n",
       "      <th>operating_profit</th>\n",
       "      <th>sales_method</th>\n",
       "    </tr>\n",
       "  </thead>\n",
       "  <tbody>\n",
       "    <tr>\n",
       "      <th>0</th>\n",
       "      <td>West Gear</td>\n",
       "      <td>1128299</td>\n",
       "      <td>1/1/21</td>\n",
       "      <td>West</td>\n",
       "      <td>California</td>\n",
       "      <td>San Francisco</td>\n",
       "      <td>Men's Athletic Footwear</td>\n",
       "      <td>65</td>\n",
       "      <td>750</td>\n",
       "      <td>487500</td>\n",
       "      <td>121875.00</td>\n",
       "      <td>Outlet</td>\n",
       "    </tr>\n",
       "    <tr>\n",
       "      <th>1</th>\n",
       "      <td>West Gear</td>\n",
       "      <td>1128299</td>\n",
       "      <td>1/1/21</td>\n",
       "      <td>West</td>\n",
       "      <td>California</td>\n",
       "      <td>San Francisco</td>\n",
       "      <td>Men's Athletic Footwear</td>\n",
       "      <td>51</td>\n",
       "      <td>233</td>\n",
       "      <td>11883</td>\n",
       "      <td>3208.41</td>\n",
       "      <td>Outlet</td>\n",
       "    </tr>\n",
       "    <tr>\n",
       "      <th>2</th>\n",
       "      <td>Kohl's</td>\n",
       "      <td>1189833</td>\n",
       "      <td>1/1/21</td>\n",
       "      <td>Midwest</td>\n",
       "      <td>Montana</td>\n",
       "      <td>Billings</td>\n",
       "      <td>Men's Apparel</td>\n",
       "      <td>50</td>\n",
       "      <td>275</td>\n",
       "      <td>137500</td>\n",
       "      <td>82500.00</td>\n",
       "      <td>Outlet</td>\n",
       "    </tr>\n",
       "    <tr>\n",
       "      <th>3</th>\n",
       "      <td>Kohl's</td>\n",
       "      <td>1189833</td>\n",
       "      <td>1/1/21</td>\n",
       "      <td>Midwest</td>\n",
       "      <td>Montana</td>\n",
       "      <td>Billings</td>\n",
       "      <td>Men's Apparel</td>\n",
       "      <td>47</td>\n",
       "      <td>77</td>\n",
       "      <td>3619</td>\n",
       "      <td>2714.25</td>\n",
       "      <td>Online</td>\n",
       "    </tr>\n",
       "    <tr>\n",
       "      <th>4</th>\n",
       "      <td>West Gear</td>\n",
       "      <td>1128299</td>\n",
       "      <td>1/1/21</td>\n",
       "      <td>West</td>\n",
       "      <td>California</td>\n",
       "      <td>San Francisco</td>\n",
       "      <td>Men's Athletic Footwear</td>\n",
       "      <td>64</td>\n",
       "      <td>225</td>\n",
       "      <td>14400</td>\n",
       "      <td>5184.00</td>\n",
       "      <td>Online</td>\n",
       "    </tr>\n",
       "  </tbody>\n",
       "</table>\n",
       "</div>"
      ],
      "text/plain": [
       "    retailer  retailer_id invoice_date   region       state           city  \\\n",
       "0  West Gear      1128299       1/1/21     West  California  San Francisco   \n",
       "1  West Gear      1128299       1/1/21     West  California  San Francisco   \n",
       "2     Kohl's      1189833       1/1/21  Midwest     Montana       Billings   \n",
       "3     Kohl's      1189833       1/1/21  Midwest     Montana       Billings   \n",
       "4  West Gear      1128299       1/1/21     West  California  San Francisco   \n",
       "\n",
       "                   product  price_per_unit  units_sold  total_sales  \\\n",
       "0  Men's Athletic Footwear              65         750       487500   \n",
       "1  Men's Athletic Footwear              51         233        11883   \n",
       "2            Men's Apparel              50         275       137500   \n",
       "3            Men's Apparel              47          77         3619   \n",
       "4  Men's Athletic Footwear              64         225        14400   \n",
       "\n",
       "   operating_profit sales_method  \n",
       "0         121875.00       Outlet  \n",
       "1           3208.41       Outlet  \n",
       "2          82500.00       Outlet  \n",
       "3           2714.25       Online  \n",
       "4           5184.00       Online  "
      ]
     },
     "execution_count": 32,
     "metadata": {},
     "output_type": "execute_result"
    }
   ],
   "source": [
    "# Display the 2021 sales DataFrame\n",
    "athletic_sales_2021.head()"
   ]
  },
  {
   "cell_type": "markdown",
   "metadata": {},
   "source": [
    "#### Check the data types of each DataFrame"
   ]
  },
  {
   "cell_type": "code",
   "execution_count": 33,
   "metadata": {},
   "outputs": [
    {
     "name": "stdout",
     "output_type": "stream",
     "text": [
      "retailer             object\n",
      "retailer_id           int64\n",
      "invoice_date         object\n",
      "region               object\n",
      "state                object\n",
      "city                 object\n",
      "product              object\n",
      "price_per_unit        int64\n",
      "units_sold            int64\n",
      "total_sales           int64\n",
      "operating_profit    float64\n",
      "sales_method         object\n",
      "dtype: object\n"
     ]
    }
   ],
   "source": [
    "# Check the 2020 sales data types.\n",
    "print(athletic_sales_2020.dtypes)"
   ]
  },
  {
   "cell_type": "code",
   "execution_count": 34,
   "metadata": {},
   "outputs": [
    {
     "name": "stdout",
     "output_type": "stream",
     "text": [
      "retailer             object\n",
      "retailer_id           int64\n",
      "invoice_date         object\n",
      "region               object\n",
      "state                object\n",
      "city                 object\n",
      "product              object\n",
      "price_per_unit        int64\n",
      "units_sold            int64\n",
      "total_sales           int64\n",
      "operating_profit    float64\n",
      "sales_method         object\n",
      "dtype: object\n"
     ]
    }
   ],
   "source": [
    "# Check the 2021 sales data types.\n",
    "print(athletic_sales_2021.dtypes)"
   ]
  },
  {
   "cell_type": "markdown",
   "metadata": {},
   "source": [
    "#### Combine the sales data by rows."
   ]
  },
  {
   "cell_type": "code",
   "execution_count": 35,
   "metadata": {},
   "outputs": [
    {
     "data": {
      "text/plain": [
       "(1297, 12)"
      ]
     },
     "execution_count": 35,
     "metadata": {},
     "output_type": "execute_result"
    }
   ],
   "source": [
    "athletic_sales_2020.shape\n"
   ]
  },
  {
   "cell_type": "code",
   "execution_count": 36,
   "metadata": {},
   "outputs": [
    {
     "data": {
      "text/plain": [
       "(8346, 12)"
      ]
     },
     "execution_count": 36,
     "metadata": {},
     "output_type": "execute_result"
    }
   ],
   "source": [
    "athletic_sales_2021.shape"
   ]
  },
  {
   "cell_type": "code",
   "execution_count": 37,
   "metadata": {},
   "outputs": [
    {
     "name": "stdout",
     "output_type": "stream",
     "text": [
      "         retailer  retailer_id invoice_date     region         state  \\\n",
      "0     Foot Locker      1185732       1/1/20  Northeast      New York   \n",
      "1     Foot Locker      1185732       1/1/20  Northeast  Pennsylvania   \n",
      "2     Foot Locker      1185732       1/1/20  Northeast  Pennsylvania   \n",
      "3     Foot Locker      1185732       1/1/20  Northeast      New York   \n",
      "4     Foot Locker      1185732       1/1/20  Northeast  Pennsylvania   \n",
      "...           ...          ...          ...        ...           ...   \n",
      "9638  Foot Locker      1185732     12/31/21  Northeast  Pennsylvania   \n",
      "9639  Foot Locker      1185732     12/31/21  Northeast  Pennsylvania   \n",
      "9640       Amazon      1185732     12/31/21  Northeast         Maine   \n",
      "9641       Amazon      1185732     12/31/21  Northeast         Maine   \n",
      "9642  Foot Locker      1185732     12/31/21  Northeast  Pennsylvania   \n",
      "\n",
      "              city                product  price_per_unit  units_sold  \\\n",
      "0         New York  Men's Street Footwear              50        1200   \n",
      "1     Philadelphia        Women's Apparel              68          83   \n",
      "2     Philadelphia        Women's Apparel              75         275   \n",
      "3         New York  Men's Street Footwear              34         384   \n",
      "4     Philadelphia        Women's Apparel              53          83   \n",
      "...            ...                    ...             ...         ...   \n",
      "9638  Philadelphia          Men's Apparel              63          47   \n",
      "9639  Philadelphia          Men's Apparel              46          56   \n",
      "9640      Portland          Men's Apparel              52          36   \n",
      "9641      Portland          Men's Apparel              55         125   \n",
      "9642  Philadelphia          Men's Apparel              70         175   \n",
      "\n",
      "      total_sales  operating_profit sales_method  \n",
      "0          600000         300000.00     In-store  \n",
      "1            5644           2426.92       Online  \n",
      "2          206250          61875.00       Outlet  \n",
      "3           13056           6789.12       Outlet  \n",
      "4            4399           1407.68       Outlet  \n",
      "...           ...               ...          ...  \n",
      "9638         2961           1362.06       Online  \n",
      "9639         2576           1004.64       Outlet  \n",
      "9640         1872            692.64       Online  \n",
      "9641        68750          17187.50       Outlet  \n",
      "9642       122500          42875.00       Outlet  \n",
      "\n",
      "[9643 rows x 12 columns]\n"
     ]
    }
   ],
   "source": [
    "# Combine the 2020 and 2021 sales DataFrames on the rows and reset the index.\n",
    "\n",
    "athletic_sales_combined_df = pd.concat([athletic_sales_2020, athletic_sales_2021], ignore_index=True)\n",
    "print(athletic_sales_combined_df)"
   ]
  },
  {
   "cell_type": "code",
   "execution_count": 38,
   "metadata": {},
   "outputs": [
    {
     "name": "stdout",
     "output_type": "stream",
     "text": [
      "No columns have null values.\n"
     ]
    }
   ],
   "source": [
    "# Check if any values are null.\n",
    "null_columns = athletic_sales_combined_df.columns[athletic_sales_combined_df.isnull().any()]\n",
    "if null_columns.empty:\n",
    "    print(\"No columns have null values.\")\n",
    "else:\n",
    "    print(\"Columns with null values:\", null_columns)"
   ]
  },
  {
   "cell_type": "code",
   "execution_count": 39,
   "metadata": {},
   "outputs": [
    {
     "data": {
      "text/plain": [
       "Index([], dtype='object')"
      ]
     },
     "execution_count": 39,
     "metadata": {},
     "output_type": "execute_result"
    }
   ],
   "source": [
    "null_columns"
   ]
  },
  {
   "cell_type": "code",
   "execution_count": 40,
   "metadata": {},
   "outputs": [
    {
     "name": "stdout",
     "output_type": "stream",
     "text": [
      "retailer             object\n",
      "retailer_id           int64\n",
      "invoice_date         object\n",
      "region               object\n",
      "state                object\n",
      "city                 object\n",
      "product              object\n",
      "price_per_unit        int64\n",
      "units_sold            int64\n",
      "total_sales           int64\n",
      "operating_profit    float64\n",
      "sales_method         object\n",
      "dtype: object\n"
     ]
    }
   ],
   "source": [
    "# Check the data type of each column\n",
    "print(athletic_sales_combined_df.dtypes)"
   ]
  },
  {
   "cell_type": "code",
   "execution_count": 42,
   "metadata": {},
   "outputs": [],
   "source": [
    "# Convert the \"invoice_date\" to a datetime datatype\n",
    "athletic_sales_combined_df['invoice_date'] = pd.to_datetime(athletic_sales_combined_df['invoice_date'])"
   ]
  },
  {
   "cell_type": "code",
   "execution_count": 43,
   "metadata": {},
   "outputs": [
    {
     "name": "stdout",
     "output_type": "stream",
     "text": [
      "retailer                    object\n",
      "retailer_id                  int64\n",
      "invoice_date        datetime64[ns]\n",
      "region                      object\n",
      "state                       object\n",
      "city                        object\n",
      "product                     object\n",
      "price_per_unit               int64\n",
      "units_sold                   int64\n",
      "total_sales                  int64\n",
      "operating_profit           float64\n",
      "sales_method                object\n",
      "dtype: object\n"
     ]
    }
   ],
   "source": [
    "# Confirm that the \"invoice_date\" data type has been changed.\n",
    "print(athletic_sales_combined_df.dtypes)"
   ]
  },
  {
   "cell_type": "markdown",
   "metadata": {},
   "source": [
    "### 2. Determine which Region Sold the Most Products"
   ]
  },
  {
   "cell_type": "markdown",
   "metadata": {},
   "source": [
    "#### Using `groupby`"
   ]
  },
  {
   "cell_type": "code",
   "execution_count": 237,
   "metadata": {},
   "outputs": [
    {
     "data": {
      "text/html": [
       "<div>\n",
       "<style scoped>\n",
       "    .dataframe tbody tr th:only-of-type {\n",
       "        vertical-align: middle;\n",
       "    }\n",
       "\n",
       "    .dataframe tbody tr th {\n",
       "        vertical-align: top;\n",
       "    }\n",
       "\n",
       "    .dataframe thead th {\n",
       "        text-align: right;\n",
       "    }\n",
       "</style>\n",
       "<table border=\"1\" class=\"dataframe\">\n",
       "  <thead>\n",
       "    <tr style=\"text-align: right;\">\n",
       "      <th></th>\n",
       "      <th></th>\n",
       "      <th></th>\n",
       "      <th>Total_Products_Sold</th>\n",
       "    </tr>\n",
       "    <tr>\n",
       "      <th>region</th>\n",
       "      <th>state</th>\n",
       "      <th>city</th>\n",
       "      <th></th>\n",
       "    </tr>\n",
       "  </thead>\n",
       "  <tbody>\n",
       "    <tr>\n",
       "      <th rowspan=\"10\" valign=\"top\">Midwest</th>\n",
       "      <th>Illinois</th>\n",
       "      <th>Chicago</th>\n",
       "      <td>25407</td>\n",
       "    </tr>\n",
       "    <tr>\n",
       "      <th>Indiana</th>\n",
       "      <th>Indianapolis</th>\n",
       "      <td>26332</td>\n",
       "    </tr>\n",
       "    <tr>\n",
       "      <th>Iowa</th>\n",
       "      <th>Des Moines</th>\n",
       "      <td>23446</td>\n",
       "    </tr>\n",
       "    <tr>\n",
       "      <th>Kansas</th>\n",
       "      <th>Wichita</th>\n",
       "      <td>29463</td>\n",
       "    </tr>\n",
       "    <tr>\n",
       "      <th>Michigan</th>\n",
       "      <th>Detroit</th>\n",
       "      <td>50095</td>\n",
       "    </tr>\n",
       "    <tr>\n",
       "      <th>Minnesota</th>\n",
       "      <th>Minneapolis</th>\n",
       "      <td>20415</td>\n",
       "    </tr>\n",
       "    <tr>\n",
       "      <th>Missouri</th>\n",
       "      <th>St. Louis</th>\n",
       "      <td>36404</td>\n",
       "    </tr>\n",
       "    <tr>\n",
       "      <th>Montana</th>\n",
       "      <th>Billings</th>\n",
       "      <td>42713</td>\n",
       "    </tr>\n",
       "    <tr>\n",
       "      <th>Nebraska</th>\n",
       "      <th>Omaha</th>\n",
       "      <td>19154</td>\n",
       "    </tr>\n",
       "    <tr>\n",
       "      <th>North Dakota</th>\n",
       "      <th>Fargo</th>\n",
       "      <td>22781</td>\n",
       "    </tr>\n",
       "  </tbody>\n",
       "</table>\n",
       "</div>"
      ],
      "text/plain": [
       "                                   Total_Products_Sold\n",
       "region  state        city                             \n",
       "Midwest Illinois     Chicago                     25407\n",
       "        Indiana      Indianapolis                26332\n",
       "        Iowa         Des Moines                  23446\n",
       "        Kansas       Wichita                     29463\n",
       "        Michigan     Detroit                     50095\n",
       "        Minnesota    Minneapolis                 20415\n",
       "        Missouri     St. Louis                   36404\n",
       "        Montana      Billings                    42713\n",
       "        Nebraska     Omaha                       19154\n",
       "        North Dakota Fargo                       22781"
      ]
     },
     "execution_count": 237,
     "metadata": {},
     "output_type": "execute_result"
    }
   ],
   "source": [
    "athletic_df = athletic_sales_combined_df.groupby([\"region\", \"state\", \"city\"]).agg(Total_Products_Sold=(\"units_sold\", \"sum\"))\n",
    "athletic_df.head(10)"
   ]
  },
  {
   "cell_type": "code",
   "execution_count": 238,
   "metadata": {},
   "outputs": [
    {
     "data": {
      "text/html": [
       "<div>\n",
       "<style scoped>\n",
       "    .dataframe tbody tr th:only-of-type {\n",
       "        vertical-align: middle;\n",
       "    }\n",
       "\n",
       "    .dataframe tbody tr th {\n",
       "        vertical-align: top;\n",
       "    }\n",
       "\n",
       "    .dataframe thead th {\n",
       "        text-align: right;\n",
       "    }\n",
       "</style>\n",
       "<table border=\"1\" class=\"dataframe\">\n",
       "  <thead>\n",
       "    <tr style=\"text-align: right;\">\n",
       "      <th></th>\n",
       "      <th></th>\n",
       "      <th></th>\n",
       "      <th>Total_Products_Sold</th>\n",
       "    </tr>\n",
       "    <tr>\n",
       "      <th>region</th>\n",
       "      <th>state</th>\n",
       "      <th>city</th>\n",
       "      <th></th>\n",
       "    </tr>\n",
       "  </thead>\n",
       "  <tbody>\n",
       "    <tr>\n",
       "      <th rowspan=\"10\" valign=\"top\">Midwest</th>\n",
       "      <th>Illinois</th>\n",
       "      <th>Chicago</th>\n",
       "      <td>25407</td>\n",
       "    </tr>\n",
       "    <tr>\n",
       "      <th>Indiana</th>\n",
       "      <th>Indianapolis</th>\n",
       "      <td>26332</td>\n",
       "    </tr>\n",
       "    <tr>\n",
       "      <th>Iowa</th>\n",
       "      <th>Des Moines</th>\n",
       "      <td>23446</td>\n",
       "    </tr>\n",
       "    <tr>\n",
       "      <th>Kansas</th>\n",
       "      <th>Wichita</th>\n",
       "      <td>29463</td>\n",
       "    </tr>\n",
       "    <tr>\n",
       "      <th>Michigan</th>\n",
       "      <th>Detroit</th>\n",
       "      <td>50095</td>\n",
       "    </tr>\n",
       "    <tr>\n",
       "      <th>Minnesota</th>\n",
       "      <th>Minneapolis</th>\n",
       "      <td>20415</td>\n",
       "    </tr>\n",
       "    <tr>\n",
       "      <th>Missouri</th>\n",
       "      <th>St. Louis</th>\n",
       "      <td>36404</td>\n",
       "    </tr>\n",
       "    <tr>\n",
       "      <th>Montana</th>\n",
       "      <th>Billings</th>\n",
       "      <td>42713</td>\n",
       "    </tr>\n",
       "    <tr>\n",
       "      <th>Nebraska</th>\n",
       "      <th>Omaha</th>\n",
       "      <td>19154</td>\n",
       "    </tr>\n",
       "    <tr>\n",
       "      <th>North Dakota</th>\n",
       "      <th>Fargo</th>\n",
       "      <td>22781</td>\n",
       "    </tr>\n",
       "  </tbody>\n",
       "</table>\n",
       "</div>"
      ],
      "text/plain": [
       "                                   Total_Products_Sold\n",
       "region  state        city                             \n",
       "Midwest Illinois     Chicago                     25407\n",
       "        Indiana      Indianapolis                26332\n",
       "        Iowa         Des Moines                  23446\n",
       "        Kansas       Wichita                     29463\n",
       "        Michigan     Detroit                     50095\n",
       "        Minnesota    Minneapolis                 20415\n",
       "        Missouri     St. Louis                   36404\n",
       "        Montana      Billings                    42713\n",
       "        Nebraska     Omaha                       19154\n",
       "        North Dakota Fargo                       22781"
      ]
     },
     "execution_count": 238,
     "metadata": {},
     "output_type": "execute_result"
    }
   ],
   "source": [
    "# Show the number products sold for region, state, and city.\n",
    "# Rename the sum to \"Total_Products_Sold\".\n",
    "athletic_df = athletic_sales_combined_df.groupby([\"region\", \"state\", \"city\"]).agg(Total_Products_Sold=(\"units_sold\", \"sum\"))\n",
    "athletic_df.head(10)\n",
    "                            "
   ]
  },
  {
   "cell_type": "code",
   "execution_count": 239,
   "metadata": {},
   "outputs": [
    {
     "name": "stdout",
     "output_type": "stream",
     "text": [
      "                                    Total_Products_Sold\n",
      "region    state      city                              \n",
      "Northeast New York   New York                    111954\n",
      "South     Texas      Houston                      90322\n",
      "West      California San Francisco                85478\n",
      "                     Los Angeles                  76384\n",
      "Southeast Florida    Miami                        73135\n"
     ]
    }
   ],
   "source": [
    "# Show the top 5 results.\n",
    "sorted_df = athletic_df.sort_values(by=\"Total_Products_Sold\", ascending=False)\n",
    "top5_df = sorted_df.head(5)\n",
    "print(top5_df)\n"
   ]
  },
  {
   "cell_type": "markdown",
   "metadata": {},
   "source": [
    "#### Using `pivot_table`"
   ]
  },
  {
   "cell_type": "code",
   "execution_count": 56,
   "metadata": {},
   "outputs": [],
   "source": [
    "athletic_sales_combined_forpivot = athletic_sales_combined_df"
   ]
  },
  {
   "cell_type": "code",
   "execution_count": 236,
   "metadata": {},
   "outputs": [
    {
     "data": {
      "text/html": [
       "<div>\n",
       "<style scoped>\n",
       "    .dataframe tbody tr th:only-of-type {\n",
       "        vertical-align: middle;\n",
       "    }\n",
       "\n",
       "    .dataframe tbody tr th {\n",
       "        vertical-align: top;\n",
       "    }\n",
       "\n",
       "    .dataframe thead th {\n",
       "        text-align: right;\n",
       "    }\n",
       "</style>\n",
       "<table border=\"1\" class=\"dataframe\">\n",
       "  <thead>\n",
       "    <tr style=\"text-align: right;\">\n",
       "      <th></th>\n",
       "      <th>region</th>\n",
       "      <th>state</th>\n",
       "      <th>city</th>\n",
       "      <th>Total_Products_Sold</th>\n",
       "    </tr>\n",
       "  </thead>\n",
       "  <tbody>\n",
       "    <tr>\n",
       "      <th>0</th>\n",
       "      <td>Midwest</td>\n",
       "      <td>Illinois</td>\n",
       "      <td>Chicago</td>\n",
       "      <td>25407</td>\n",
       "    </tr>\n",
       "    <tr>\n",
       "      <th>1</th>\n",
       "      <td>Midwest</td>\n",
       "      <td>Indiana</td>\n",
       "      <td>Indianapolis</td>\n",
       "      <td>26332</td>\n",
       "    </tr>\n",
       "    <tr>\n",
       "      <th>2</th>\n",
       "      <td>Midwest</td>\n",
       "      <td>Iowa</td>\n",
       "      <td>Des Moines</td>\n",
       "      <td>23446</td>\n",
       "    </tr>\n",
       "    <tr>\n",
       "      <th>3</th>\n",
       "      <td>Midwest</td>\n",
       "      <td>Kansas</td>\n",
       "      <td>Wichita</td>\n",
       "      <td>29463</td>\n",
       "    </tr>\n",
       "    <tr>\n",
       "      <th>4</th>\n",
       "      <td>Midwest</td>\n",
       "      <td>Michigan</td>\n",
       "      <td>Detroit</td>\n",
       "      <td>50095</td>\n",
       "    </tr>\n",
       "  </tbody>\n",
       "</table>\n",
       "</div>"
      ],
      "text/plain": [
       "    region     state          city  Total_Products_Sold\n",
       "0  Midwest  Illinois       Chicago                25407\n",
       "1  Midwest   Indiana  Indianapolis                26332\n",
       "2  Midwest      Iowa    Des Moines                23446\n",
       "3  Midwest    Kansas       Wichita                29463\n",
       "4  Midwest  Michigan       Detroit                50095"
      ]
     },
     "execution_count": 236,
     "metadata": {},
     "output_type": "execute_result"
    }
   ],
   "source": [
    "# Show the number products sold for region, state, and city.\n",
    "pivot_df = athletic_sales_combined_forpivot.pivot_table(index=[\"region\", \"state\", \"city\"], values=\"units_sold\", aggfunc=\"sum\")\n",
    "pivot_df.rename(columns={\"units_sold\": \"Total_Products_Sold\"}, inplace=True)\n",
    "pivot_df.reset_index(inplace=True)\n",
    "pivot_df.head(5)"
   ]
  },
  {
   "cell_type": "code",
   "execution_count": 69,
   "metadata": {},
   "outputs": [
    {
     "name": "stdout",
     "output_type": "stream",
     "text": [
      "       region       state           city  Total_Products_Sold\n",
      "21  Northeast    New York       New York               111954\n",
      "33      South       Texas        Houston                90322\n",
      "44       West  California  San Francisco                85478\n",
      "43       West  California    Los Angeles                76384\n",
      "34  Southeast     Florida          Miami                73135\n"
     ]
    }
   ],
   "source": [
    "# Show the top 5 results.\n",
    "pivot_sorted_df = pivot_df.sort_values(by=\"Total_Products_Sold\", ascending=False)\n",
    "top5_entries = pivot_sorted_df.head(5)\n",
    "print(top5_entries)"
   ]
  },
  {
   "cell_type": "markdown",
   "metadata": {},
   "source": [
    "### 3. Determine which Region had the Most Sales"
   ]
  },
  {
   "cell_type": "code",
   "execution_count": 80,
   "metadata": {},
   "outputs": [
    {
     "data": {
      "text/plain": [
       "Index(['retailer', 'retailer_id', 'invoice_date', 'region', 'state', 'city',\n",
       "       'product', 'price_per_unit', 'units_sold', 'total_sales',\n",
       "       'operating_profit', 'sales_method'],\n",
       "      dtype='object')"
      ]
     },
     "execution_count": 80,
     "metadata": {},
     "output_type": "execute_result"
    }
   ],
   "source": [
    "athletic_sales_combined_df.columns"
   ]
  },
  {
   "cell_type": "code",
   "execution_count": 88,
   "metadata": {},
   "outputs": [],
   "source": [
    "mostsales_df = athletic_sales_combined_df.groupby([\"region\", \"state\", \"city\"]).agg(Total_Sales=(\"total_sales\", \"sum\"))\n",
    "mostsales_df.reset_index(inplace=True)"
   ]
  },
  {
   "cell_type": "code",
   "execution_count": 91,
   "metadata": {},
   "outputs": [
    {
     "data": {
      "text/html": [
       "<div>\n",
       "<style scoped>\n",
       "    .dataframe tbody tr th:only-of-type {\n",
       "        vertical-align: middle;\n",
       "    }\n",
       "\n",
       "    .dataframe tbody tr th {\n",
       "        vertical-align: top;\n",
       "    }\n",
       "\n",
       "    .dataframe thead th {\n",
       "        text-align: right;\n",
       "    }\n",
       "</style>\n",
       "<table border=\"1\" class=\"dataframe\">\n",
       "  <thead>\n",
       "    <tr style=\"text-align: right;\">\n",
       "      <th></th>\n",
       "      <th>index</th>\n",
       "      <th>region</th>\n",
       "      <th>state</th>\n",
       "      <th>city</th>\n",
       "      <th>Total_Sales</th>\n",
       "    </tr>\n",
       "  </thead>\n",
       "  <tbody>\n",
       "    <tr>\n",
       "      <th>0</th>\n",
       "      <td>0</td>\n",
       "      <td>Midwest</td>\n",
       "      <td>Illinois</td>\n",
       "      <td>Chicago</td>\n",
       "      <td>9797488</td>\n",
       "    </tr>\n",
       "    <tr>\n",
       "      <th>1</th>\n",
       "      <td>1</td>\n",
       "      <td>Midwest</td>\n",
       "      <td>Indiana</td>\n",
       "      <td>Indianapolis</td>\n",
       "      <td>8836198</td>\n",
       "    </tr>\n",
       "    <tr>\n",
       "      <th>2</th>\n",
       "      <td>2</td>\n",
       "      <td>Midwest</td>\n",
       "      <td>Iowa</td>\n",
       "      <td>Des Moines</td>\n",
       "      <td>7424011</td>\n",
       "    </tr>\n",
       "    <tr>\n",
       "      <th>3</th>\n",
       "      <td>3</td>\n",
       "      <td>Midwest</td>\n",
       "      <td>Kansas</td>\n",
       "      <td>Wichita</td>\n",
       "      <td>9972864</td>\n",
       "    </tr>\n",
       "    <tr>\n",
       "      <th>4</th>\n",
       "      <td>4</td>\n",
       "      <td>Midwest</td>\n",
       "      <td>Michigan</td>\n",
       "      <td>Detroit</td>\n",
       "      <td>18625433</td>\n",
       "    </tr>\n",
       "  </tbody>\n",
       "</table>\n",
       "</div>"
      ],
      "text/plain": [
       "   index   region     state          city  Total_Sales\n",
       "0      0  Midwest  Illinois       Chicago      9797488\n",
       "1      1  Midwest   Indiana  Indianapolis      8836198\n",
       "2      2  Midwest      Iowa    Des Moines      7424011\n",
       "3      3  Midwest    Kansas       Wichita      9972864\n",
       "4      4  Midwest  Michigan       Detroit     18625433"
      ]
     },
     "execution_count": 91,
     "metadata": {},
     "output_type": "execute_result"
    }
   ],
   "source": [
    "mostsales_df.rename(columns={\"total_sales\": \"Total_Sales\"}, inplace=True)\n",
    "mostsales_df.reset_index(inplace=True)\n",
    "mostsales_df.head()"
   ]
  },
  {
   "cell_type": "code",
   "execution_count": 102,
   "metadata": {},
   "outputs": [
    {
     "name": "stdout",
     "output_type": "stream",
     "text": [
      "Total Sales by Region:\n",
      "region\n",
      "Midwest      135649897\n",
      "Northeast    186324067\n",
      "South        144663181\n",
      "Southeast    163171236\n",
      "West         269377190\n",
      "Name: Total_Sales, dtype: int64\n"
     ]
    }
   ],
   "source": [
    "products_sold_by_region = mostsales_df.groupby(\"region\")[\"Total_Sales\"].sum()\n",
    "highest_region = products_sold_by_region.idxmax()\n",
    "print(\"Total Sales by Region:\")\n",
    "print(products_sold_by_region)"
   ]
  },
  {
   "cell_type": "code",
   "execution_count": 103,
   "metadata": {},
   "outputs": [
    {
     "name": "stdout",
     "output_type": "stream",
     "text": [
      "\n",
      "The Region with the Highest Total Sales: West\n"
     ]
    }
   ],
   "source": [
    "print(\"\\nThe Region with the Highest Total Sales:\", highest_region)"
   ]
  },
  {
   "cell_type": "markdown",
   "metadata": {},
   "source": [
    "#### Using `groupby`"
   ]
  },
  {
   "cell_type": "code",
   "execution_count": 99,
   "metadata": {},
   "outputs": [
    {
     "name": "stdout",
     "output_type": "stream",
     "text": [
      "Total Sales by Region:\n",
      "region\n",
      "Midwest      135649897\n",
      "Northeast    186324067\n",
      "South        144663181\n",
      "Southeast    163171236\n",
      "West         269377190\n",
      "Name: Total_Sales, dtype: int64\n"
     ]
    }
   ],
   "source": [
    "# Show the total sales for the products sold for each region, state, and city.\n",
    "# Rename the \"total_sales\" column to \"Total Sales\"\n",
    "\n",
    "\n",
    "# Show the top 5 results.\n",
    "sales_by_region = mostsales_df.groupby(\"region\")[\"Total_Sales\"].sum()\n",
    "highest_region = sales_by_region.idxmax()\n",
    "print(\"Total Sales by Region:\")\n",
    "print(sales_by_region)"
   ]
  },
  {
   "cell_type": "code",
   "execution_count": 100,
   "metadata": {},
   "outputs": [
    {
     "name": "stdout",
     "output_type": "stream",
     "text": [
      "\n",
      " The Region with the Highest Total Sales: West\n"
     ]
    }
   ],
   "source": [
    "print(\"\\n The Region with the Highest Total Sales:\", highest_region)"
   ]
  },
  {
   "cell_type": "markdown",
   "metadata": {},
   "source": [
    "#### Using `pivot_table`"
   ]
  },
  {
   "cell_type": "code",
   "execution_count": 97,
   "metadata": {},
   "outputs": [
    {
     "name": "stdout",
     "output_type": "stream",
     "text": [
      "Total Sales by Region:\n",
      "           Total_Sales\n",
      "region                \n",
      "Midwest      135649897\n",
      "Northeast    186324067\n",
      "South        144663181\n",
      "Southeast    163171236\n",
      "West         269377190\n"
     ]
    }
   ],
   "source": [
    "# Show the total sales for the products sold for each region, state, and city.\n",
    "# Optional: Rename the \"total_sales\" column to \"Total Sales\"\n",
    "# Show the top 5 results.\n",
    "pivot_table = mostsales_df.pivot_table(index=\"region\", values=\"Total_Sales\", aggfunc=\"sum\")\n",
    "highest_region = pivot_table[\"Total_Sales\"].idxmax()\n",
    "print(\"Total Sales by Region:\")\n",
    "print(pivot_table)\n"
   ]
  },
  {
   "cell_type": "code",
   "execution_count": 98,
   "metadata": {},
   "outputs": [
    {
     "name": "stdout",
     "output_type": "stream",
     "text": [
      "\n",
      " The Region with the Highest Total Sales: West\n"
     ]
    }
   ],
   "source": [
    "print(\"\\n The Region with the Highest Total Sales:\", highest_region)"
   ]
  },
  {
   "cell_type": "markdown",
   "metadata": {
    "jp-MarkdownHeadingCollapsed": true,
    "tags": []
   },
   "source": [
    "### 4. Determine which Retailer had the Most Sales"
   ]
  },
  {
   "cell_type": "markdown",
   "metadata": {},
   "source": [
    "#### Using `groupby`"
   ]
  },
  {
   "cell_type": "code",
   "execution_count": 105,
   "metadata": {},
   "outputs": [
    {
     "data": {
      "text/plain": [
       "Index(['retailer', 'retailer_id', 'invoice_date', 'region', 'state', 'city',\n",
       "       'product', 'price_per_unit', 'units_sold', 'total_sales',\n",
       "       'operating_profit', 'sales_method'],\n",
       "      dtype='object')"
      ]
     },
     "execution_count": 105,
     "metadata": {},
     "output_type": "execute_result"
    }
   ],
   "source": [
    "athletic_sales_combined_df.columns"
   ]
  },
  {
   "cell_type": "code",
   "execution_count": 104,
   "metadata": {},
   "outputs": [
    {
     "data": {
      "text/html": [
       "<div>\n",
       "<style scoped>\n",
       "    .dataframe tbody tr th:only-of-type {\n",
       "        vertical-align: middle;\n",
       "    }\n",
       "\n",
       "    .dataframe tbody tr th {\n",
       "        vertical-align: top;\n",
       "    }\n",
       "\n",
       "    .dataframe thead th {\n",
       "        text-align: right;\n",
       "    }\n",
       "</style>\n",
       "<table border=\"1\" class=\"dataframe\">\n",
       "  <thead>\n",
       "    <tr style=\"text-align: right;\">\n",
       "      <th></th>\n",
       "      <th>retailer</th>\n",
       "      <th>retailer_id</th>\n",
       "      <th>invoice_date</th>\n",
       "      <th>region</th>\n",
       "      <th>state</th>\n",
       "      <th>city</th>\n",
       "      <th>product</th>\n",
       "      <th>price_per_unit</th>\n",
       "      <th>units_sold</th>\n",
       "      <th>total_sales</th>\n",
       "      <th>operating_profit</th>\n",
       "      <th>sales_method</th>\n",
       "    </tr>\n",
       "  </thead>\n",
       "  <tbody>\n",
       "    <tr>\n",
       "      <th>0</th>\n",
       "      <td>Foot Locker</td>\n",
       "      <td>1185732</td>\n",
       "      <td>2020-01-01</td>\n",
       "      <td>Northeast</td>\n",
       "      <td>New York</td>\n",
       "      <td>New York</td>\n",
       "      <td>Men's Street Footwear</td>\n",
       "      <td>50</td>\n",
       "      <td>1200</td>\n",
       "      <td>600000</td>\n",
       "      <td>300000.00</td>\n",
       "      <td>In-store</td>\n",
       "    </tr>\n",
       "    <tr>\n",
       "      <th>1</th>\n",
       "      <td>Foot Locker</td>\n",
       "      <td>1185732</td>\n",
       "      <td>2020-01-01</td>\n",
       "      <td>Northeast</td>\n",
       "      <td>Pennsylvania</td>\n",
       "      <td>Philadelphia</td>\n",
       "      <td>Women's Apparel</td>\n",
       "      <td>68</td>\n",
       "      <td>83</td>\n",
       "      <td>5644</td>\n",
       "      <td>2426.92</td>\n",
       "      <td>Online</td>\n",
       "    </tr>\n",
       "    <tr>\n",
       "      <th>2</th>\n",
       "      <td>Foot Locker</td>\n",
       "      <td>1185732</td>\n",
       "      <td>2020-01-01</td>\n",
       "      <td>Northeast</td>\n",
       "      <td>Pennsylvania</td>\n",
       "      <td>Philadelphia</td>\n",
       "      <td>Women's Apparel</td>\n",
       "      <td>75</td>\n",
       "      <td>275</td>\n",
       "      <td>206250</td>\n",
       "      <td>61875.00</td>\n",
       "      <td>Outlet</td>\n",
       "    </tr>\n",
       "    <tr>\n",
       "      <th>3</th>\n",
       "      <td>Foot Locker</td>\n",
       "      <td>1185732</td>\n",
       "      <td>2020-01-01</td>\n",
       "      <td>Northeast</td>\n",
       "      <td>New York</td>\n",
       "      <td>New York</td>\n",
       "      <td>Men's Street Footwear</td>\n",
       "      <td>34</td>\n",
       "      <td>384</td>\n",
       "      <td>13056</td>\n",
       "      <td>6789.12</td>\n",
       "      <td>Outlet</td>\n",
       "    </tr>\n",
       "    <tr>\n",
       "      <th>4</th>\n",
       "      <td>Foot Locker</td>\n",
       "      <td>1185732</td>\n",
       "      <td>2020-01-01</td>\n",
       "      <td>Northeast</td>\n",
       "      <td>Pennsylvania</td>\n",
       "      <td>Philadelphia</td>\n",
       "      <td>Women's Apparel</td>\n",
       "      <td>53</td>\n",
       "      <td>83</td>\n",
       "      <td>4399</td>\n",
       "      <td>1407.68</td>\n",
       "      <td>Outlet</td>\n",
       "    </tr>\n",
       "  </tbody>\n",
       "</table>\n",
       "</div>"
      ],
      "text/plain": [
       "      retailer  retailer_id invoice_date     region         state  \\\n",
       "0  Foot Locker      1185732   2020-01-01  Northeast      New York   \n",
       "1  Foot Locker      1185732   2020-01-01  Northeast  Pennsylvania   \n",
       "2  Foot Locker      1185732   2020-01-01  Northeast  Pennsylvania   \n",
       "3  Foot Locker      1185732   2020-01-01  Northeast      New York   \n",
       "4  Foot Locker      1185732   2020-01-01  Northeast  Pennsylvania   \n",
       "\n",
       "           city                product  price_per_unit  units_sold  \\\n",
       "0      New York  Men's Street Footwear              50        1200   \n",
       "1  Philadelphia        Women's Apparel              68          83   \n",
       "2  Philadelphia        Women's Apparel              75         275   \n",
       "3      New York  Men's Street Footwear              34         384   \n",
       "4  Philadelphia        Women's Apparel              53          83   \n",
       "\n",
       "   total_sales  operating_profit sales_method  \n",
       "0       600000         300000.00     In-store  \n",
       "1         5644           2426.92       Online  \n",
       "2       206250          61875.00       Outlet  \n",
       "3        13056           6789.12       Outlet  \n",
       "4         4399           1407.68       Outlet  "
      ]
     },
     "execution_count": 104,
     "metadata": {},
     "output_type": "execute_result"
    }
   ],
   "source": [
    "athletic_sales_combined_df.head()"
   ]
  },
  {
   "cell_type": "code",
   "execution_count": 240,
   "metadata": {
    "scrolled": true
   },
   "outputs": [
    {
     "name": "stdout",
     "output_type": "stream",
     "text": [
      "West Gear\n"
     ]
    }
   ],
   "source": [
    "sales_by_retailer = athletic_sales_combined_df.groupby(\"retailer\")[\"total_sales\"].sum()\n",
    "highest_retailer_sales = sales_by_retailer.idxmax()\n",
    "print(highest_retailer_sales)"
   ]
  },
  {
   "cell_type": "code",
   "execution_count": 241,
   "metadata": {},
   "outputs": [
    {
     "name": "stdout",
     "output_type": "stream",
     "text": [
      "Retailer with most sales\n"
     ]
    },
    {
     "data": {
      "text/plain": [
       "'West Gear'"
      ]
     },
     "execution_count": 241,
     "metadata": {},
     "output_type": "execute_result"
    }
   ],
   "source": [
    "print(\"Retailer with most sales\")\n",
    "highest_retailer_sales"
   ]
  },
  {
   "cell_type": "code",
   "execution_count": 112,
   "metadata": {},
   "outputs": [
    {
     "data": {
      "text/html": [
       "<div>\n",
       "<style scoped>\n",
       "    .dataframe tbody tr th:only-of-type {\n",
       "        vertical-align: middle;\n",
       "    }\n",
       "\n",
       "    .dataframe tbody tr th {\n",
       "        vertical-align: top;\n",
       "    }\n",
       "\n",
       "    .dataframe thead th {\n",
       "        text-align: right;\n",
       "    }\n",
       "</style>\n",
       "<table border=\"1\" class=\"dataframe\">\n",
       "  <thead>\n",
       "    <tr style=\"text-align: right;\">\n",
       "      <th></th>\n",
       "      <th>level_0</th>\n",
       "      <th>index</th>\n",
       "      <th>retailer</th>\n",
       "      <th>region</th>\n",
       "      <th>state</th>\n",
       "      <th>city</th>\n",
       "      <th>Total_Sales</th>\n",
       "    </tr>\n",
       "  </thead>\n",
       "  <tbody>\n",
       "    <tr>\n",
       "      <th>0</th>\n",
       "      <td>0</td>\n",
       "      <td>0</td>\n",
       "      <td>Amazon</td>\n",
       "      <td>Midwest</td>\n",
       "      <td>Ohio</td>\n",
       "      <td>Columbus</td>\n",
       "      <td>16835873</td>\n",
       "    </tr>\n",
       "    <tr>\n",
       "      <th>1</th>\n",
       "      <td>1</td>\n",
       "      <td>1</td>\n",
       "      <td>Amazon</td>\n",
       "      <td>Northeast</td>\n",
       "      <td>Maine</td>\n",
       "      <td>Portland</td>\n",
       "      <td>8611395</td>\n",
       "    </tr>\n",
       "    <tr>\n",
       "      <th>2</th>\n",
       "      <td>2</td>\n",
       "      <td>2</td>\n",
       "      <td>Amazon</td>\n",
       "      <td>Northeast</td>\n",
       "      <td>Massachusetts</td>\n",
       "      <td>Boston</td>\n",
       "      <td>4193590</td>\n",
       "    </tr>\n",
       "    <tr>\n",
       "      <th>3</th>\n",
       "      <td>3</td>\n",
       "      <td>3</td>\n",
       "      <td>Amazon</td>\n",
       "      <td>Northeast</td>\n",
       "      <td>New Hampshire</td>\n",
       "      <td>Manchester</td>\n",
       "      <td>10077142</td>\n",
       "    </tr>\n",
       "    <tr>\n",
       "      <th>4</th>\n",
       "      <td>4</td>\n",
       "      <td>4</td>\n",
       "      <td>Amazon</td>\n",
       "      <td>Northeast</td>\n",
       "      <td>Vermont</td>\n",
       "      <td>Burlington</td>\n",
       "      <td>13380463</td>\n",
       "    </tr>\n",
       "  </tbody>\n",
       "</table>\n",
       "</div>"
      ],
      "text/plain": [
       "   level_0  index retailer     region          state        city  Total_Sales\n",
       "0        0      0   Amazon    Midwest           Ohio    Columbus     16835873\n",
       "1        1      1   Amazon  Northeast          Maine    Portland      8611395\n",
       "2        2      2   Amazon  Northeast  Massachusetts      Boston      4193590\n",
       "3        3      3   Amazon  Northeast  New Hampshire  Manchester     10077142\n",
       "4        4      4   Amazon  Northeast        Vermont  Burlington     13380463"
      ]
     },
     "execution_count": 112,
     "metadata": {},
     "output_type": "execute_result"
    }
   ],
   "source": [
    "# Show the total sales for the products sold for each retailer, region, state, and city.\n",
    "# Rename the \"total_sales\" column to \"Total Sales\"\n",
    "\n",
    "# Show the top 5 results.\n",
    "sales_by_location.rename(columns={\"total_sales\": \"Total_Sales\"}, inplace=True)\n",
    "sales_by_location.reset_index(inplace=True)\n",
    "sales_by_location.head()"
   ]
  },
  {
   "cell_type": "code",
   "execution_count": 114,
   "metadata": {},
   "outputs": [
    {
     "data": {
      "text/html": [
       "<div>\n",
       "<style scoped>\n",
       "    .dataframe tbody tr th:only-of-type {\n",
       "        vertical-align: middle;\n",
       "    }\n",
       "\n",
       "    .dataframe tbody tr th {\n",
       "        vertical-align: top;\n",
       "    }\n",
       "\n",
       "    .dataframe thead th {\n",
       "        text-align: right;\n",
       "    }\n",
       "</style>\n",
       "<table border=\"1\" class=\"dataframe\">\n",
       "  <thead>\n",
       "    <tr style=\"text-align: right;\">\n",
       "      <th></th>\n",
       "      <th>level_0</th>\n",
       "      <th>index</th>\n",
       "      <th>retailer</th>\n",
       "      <th>region</th>\n",
       "      <th>state</th>\n",
       "      <th>city</th>\n",
       "      <th>Total_Sales</th>\n",
       "    </tr>\n",
       "  </thead>\n",
       "  <tbody>\n",
       "    <tr>\n",
       "      <th>103</th>\n",
       "      <td>103</td>\n",
       "      <td>103</td>\n",
       "      <td>West Gear</td>\n",
       "      <td>West</td>\n",
       "      <td>California</td>\n",
       "      <td>San Francisco</td>\n",
       "      <td>32794405</td>\n",
       "    </tr>\n",
       "    <tr>\n",
       "      <th>50</th>\n",
       "      <td>50</td>\n",
       "      <td>50</td>\n",
       "      <td>Kohl's</td>\n",
       "      <td>West</td>\n",
       "      <td>California</td>\n",
       "      <td>Los Angeles</td>\n",
       "      <td>25127160</td>\n",
       "    </tr>\n",
       "    <tr>\n",
       "      <th>22</th>\n",
       "      <td>22</td>\n",
       "      <td>22</td>\n",
       "      <td>Foot Locker</td>\n",
       "      <td>Northeast</td>\n",
       "      <td>New York</td>\n",
       "      <td>New York</td>\n",
       "      <td>25008568</td>\n",
       "    </tr>\n",
       "    <tr>\n",
       "      <th>109</th>\n",
       "      <td>109</td>\n",
       "      <td>109</td>\n",
       "      <td>West Gear</td>\n",
       "      <td>West</td>\n",
       "      <td>Washington</td>\n",
       "      <td>Seattle</td>\n",
       "      <td>24862675</td>\n",
       "    </tr>\n",
       "    <tr>\n",
       "      <th>33</th>\n",
       "      <td>33</td>\n",
       "      <td>33</td>\n",
       "      <td>Foot Locker</td>\n",
       "      <td>Southeast</td>\n",
       "      <td>South Carolina</td>\n",
       "      <td>Charleston</td>\n",
       "      <td>24822280</td>\n",
       "    </tr>\n",
       "  </tbody>\n",
       "</table>\n",
       "</div>"
      ],
      "text/plain": [
       "     level_0  index     retailer     region           state           city  \\\n",
       "103      103    103    West Gear       West      California  San Francisco   \n",
       "50        50     50       Kohl's       West      California    Los Angeles   \n",
       "22        22     22  Foot Locker  Northeast        New York       New York   \n",
       "109      109    109    West Gear       West      Washington        Seattle   \n",
       "33        33     33  Foot Locker  Southeast  South Carolina     Charleston   \n",
       "\n",
       "     Total_Sales  \n",
       "103     32794405  \n",
       "50      25127160  \n",
       "22      25008568  \n",
       "109     24862675  \n",
       "33      24822280  "
      ]
     },
     "execution_count": 114,
     "metadata": {},
     "output_type": "execute_result"
    }
   ],
   "source": [
    "retailer_sorted_df = sales_by_location.sort_values(by=\"Total_Sales\", ascending=False)\n",
    "retailer_sorted_df.head()"
   ]
  },
  {
   "cell_type": "code",
   "execution_count": 161,
   "metadata": {},
   "outputs": [
    {
     "data": {
      "text/html": [
       "<div>\n",
       "<style scoped>\n",
       "    .dataframe tbody tr th:only-of-type {\n",
       "        vertical-align: middle;\n",
       "    }\n",
       "\n",
       "    .dataframe tbody tr th {\n",
       "        vertical-align: top;\n",
       "    }\n",
       "\n",
       "    .dataframe thead th {\n",
       "        text-align: right;\n",
       "    }\n",
       "</style>\n",
       "<table border=\"1\" class=\"dataframe\">\n",
       "  <thead>\n",
       "    <tr style=\"text-align: right;\">\n",
       "      <th></th>\n",
       "      <th>level_0</th>\n",
       "      <th>index</th>\n",
       "      <th>retailer</th>\n",
       "      <th>region</th>\n",
       "      <th>state</th>\n",
       "      <th>city</th>\n",
       "      <th>Total_Sales</th>\n",
       "    </tr>\n",
       "  </thead>\n",
       "  <tbody>\n",
       "    <tr>\n",
       "      <th>103</th>\n",
       "      <td>103</td>\n",
       "      <td>103</td>\n",
       "      <td>West Gear</td>\n",
       "      <td>West</td>\n",
       "      <td>California</td>\n",
       "      <td>San Francisco</td>\n",
       "      <td>32794405</td>\n",
       "    </tr>\n",
       "    <tr>\n",
       "      <th>50</th>\n",
       "      <td>50</td>\n",
       "      <td>50</td>\n",
       "      <td>Kohl's</td>\n",
       "      <td>West</td>\n",
       "      <td>California</td>\n",
       "      <td>Los Angeles</td>\n",
       "      <td>25127160</td>\n",
       "    </tr>\n",
       "    <tr>\n",
       "      <th>22</th>\n",
       "      <td>22</td>\n",
       "      <td>22</td>\n",
       "      <td>Foot Locker</td>\n",
       "      <td>Northeast</td>\n",
       "      <td>New York</td>\n",
       "      <td>New York</td>\n",
       "      <td>25008568</td>\n",
       "    </tr>\n",
       "    <tr>\n",
       "      <th>109</th>\n",
       "      <td>109</td>\n",
       "      <td>109</td>\n",
       "      <td>West Gear</td>\n",
       "      <td>West</td>\n",
       "      <td>Washington</td>\n",
       "      <td>Seattle</td>\n",
       "      <td>24862675</td>\n",
       "    </tr>\n",
       "    <tr>\n",
       "      <th>33</th>\n",
       "      <td>33</td>\n",
       "      <td>33</td>\n",
       "      <td>Foot Locker</td>\n",
       "      <td>Southeast</td>\n",
       "      <td>South Carolina</td>\n",
       "      <td>Charleston</td>\n",
       "      <td>24822280</td>\n",
       "    </tr>\n",
       "  </tbody>\n",
       "</table>\n",
       "</div>"
      ],
      "text/plain": [
       "     level_0  index     retailer     region           state           city  \\\n",
       "103      103    103    West Gear       West      California  San Francisco   \n",
       "50        50     50       Kohl's       West      California    Los Angeles   \n",
       "22        22     22  Foot Locker  Northeast        New York       New York   \n",
       "109      109    109    West Gear       West      Washington        Seattle   \n",
       "33        33     33  Foot Locker  Southeast  South Carolina     Charleston   \n",
       "\n",
       "     Total_Sales  \n",
       "103     32794405  \n",
       "50      25127160  \n",
       "22      25008568  \n",
       "109     24862675  \n",
       "33      24822280  "
      ]
     },
     "execution_count": 161,
     "metadata": {},
     "output_type": "execute_result"
    }
   ],
   "source": [
    "# Show the top 5 results.\n",
    "top5_entries = retailer_sorted_df.head(5)\n",
    "top5_entries"
   ]
  },
  {
   "cell_type": "markdown",
   "metadata": {},
   "source": [
    "#### Using `pivot_table`"
   ]
  },
  {
   "cell_type": "code",
   "execution_count": 17,
   "metadata": {},
   "outputs": [],
   "source": [
    "# Show the total sales for the products sold for each retailer, region, state, and city.\n",
    "# Optional: Rename the \"total_sales\" column to \"Total Sales\"\n",
    "# Show the top 5 results.\n",
    "\n",
    "# I did the groupby"
   ]
  },
  {
   "cell_type": "markdown",
   "metadata": {},
   "source": [
    "### 5. Determine which Retailer Sold the Most Women's Athletic Footwear"
   ]
  },
  {
   "cell_type": "code",
   "execution_count": 117,
   "metadata": {},
   "outputs": [
    {
     "data": {
      "text/plain": [
       "Index(['retailer', 'retailer_id', 'invoice_date', 'region', 'state', 'city',\n",
       "       'product', 'price_per_unit', 'units_sold', 'total_sales',\n",
       "       'operating_profit', 'sales_method'],\n",
       "      dtype='object')"
      ]
     },
     "execution_count": 117,
     "metadata": {},
     "output_type": "execute_result"
    }
   ],
   "source": [
    "athletic_sales_combined_df.columns"
   ]
  },
  {
   "cell_type": "code",
   "execution_count": 116,
   "metadata": {},
   "outputs": [
    {
     "data": {
      "text/html": [
       "<div>\n",
       "<style scoped>\n",
       "    .dataframe tbody tr th:only-of-type {\n",
       "        vertical-align: middle;\n",
       "    }\n",
       "\n",
       "    .dataframe tbody tr th {\n",
       "        vertical-align: top;\n",
       "    }\n",
       "\n",
       "    .dataframe thead th {\n",
       "        text-align: right;\n",
       "    }\n",
       "</style>\n",
       "<table border=\"1\" class=\"dataframe\">\n",
       "  <thead>\n",
       "    <tr style=\"text-align: right;\">\n",
       "      <th></th>\n",
       "      <th>retailer</th>\n",
       "      <th>retailer_id</th>\n",
       "      <th>invoice_date</th>\n",
       "      <th>region</th>\n",
       "      <th>state</th>\n",
       "      <th>city</th>\n",
       "      <th>product</th>\n",
       "      <th>price_per_unit</th>\n",
       "      <th>units_sold</th>\n",
       "      <th>total_sales</th>\n",
       "      <th>operating_profit</th>\n",
       "      <th>sales_method</th>\n",
       "    </tr>\n",
       "  </thead>\n",
       "  <tbody>\n",
       "    <tr>\n",
       "      <th>0</th>\n",
       "      <td>Foot Locker</td>\n",
       "      <td>1185732</td>\n",
       "      <td>2020-01-01</td>\n",
       "      <td>Northeast</td>\n",
       "      <td>New York</td>\n",
       "      <td>New York</td>\n",
       "      <td>Men's Street Footwear</td>\n",
       "      <td>50</td>\n",
       "      <td>1200</td>\n",
       "      <td>600000</td>\n",
       "      <td>300000.00</td>\n",
       "      <td>In-store</td>\n",
       "    </tr>\n",
       "    <tr>\n",
       "      <th>1</th>\n",
       "      <td>Foot Locker</td>\n",
       "      <td>1185732</td>\n",
       "      <td>2020-01-01</td>\n",
       "      <td>Northeast</td>\n",
       "      <td>Pennsylvania</td>\n",
       "      <td>Philadelphia</td>\n",
       "      <td>Women's Apparel</td>\n",
       "      <td>68</td>\n",
       "      <td>83</td>\n",
       "      <td>5644</td>\n",
       "      <td>2426.92</td>\n",
       "      <td>Online</td>\n",
       "    </tr>\n",
       "    <tr>\n",
       "      <th>2</th>\n",
       "      <td>Foot Locker</td>\n",
       "      <td>1185732</td>\n",
       "      <td>2020-01-01</td>\n",
       "      <td>Northeast</td>\n",
       "      <td>Pennsylvania</td>\n",
       "      <td>Philadelphia</td>\n",
       "      <td>Women's Apparel</td>\n",
       "      <td>75</td>\n",
       "      <td>275</td>\n",
       "      <td>206250</td>\n",
       "      <td>61875.00</td>\n",
       "      <td>Outlet</td>\n",
       "    </tr>\n",
       "    <tr>\n",
       "      <th>3</th>\n",
       "      <td>Foot Locker</td>\n",
       "      <td>1185732</td>\n",
       "      <td>2020-01-01</td>\n",
       "      <td>Northeast</td>\n",
       "      <td>New York</td>\n",
       "      <td>New York</td>\n",
       "      <td>Men's Street Footwear</td>\n",
       "      <td>34</td>\n",
       "      <td>384</td>\n",
       "      <td>13056</td>\n",
       "      <td>6789.12</td>\n",
       "      <td>Outlet</td>\n",
       "    </tr>\n",
       "    <tr>\n",
       "      <th>4</th>\n",
       "      <td>Foot Locker</td>\n",
       "      <td>1185732</td>\n",
       "      <td>2020-01-01</td>\n",
       "      <td>Northeast</td>\n",
       "      <td>Pennsylvania</td>\n",
       "      <td>Philadelphia</td>\n",
       "      <td>Women's Apparel</td>\n",
       "      <td>53</td>\n",
       "      <td>83</td>\n",
       "      <td>4399</td>\n",
       "      <td>1407.68</td>\n",
       "      <td>Outlet</td>\n",
       "    </tr>\n",
       "  </tbody>\n",
       "</table>\n",
       "</div>"
      ],
      "text/plain": [
       "      retailer  retailer_id invoice_date     region         state  \\\n",
       "0  Foot Locker      1185732   2020-01-01  Northeast      New York   \n",
       "1  Foot Locker      1185732   2020-01-01  Northeast  Pennsylvania   \n",
       "2  Foot Locker      1185732   2020-01-01  Northeast  Pennsylvania   \n",
       "3  Foot Locker      1185732   2020-01-01  Northeast      New York   \n",
       "4  Foot Locker      1185732   2020-01-01  Northeast  Pennsylvania   \n",
       "\n",
       "           city                product  price_per_unit  units_sold  \\\n",
       "0      New York  Men's Street Footwear              50        1200   \n",
       "1  Philadelphia        Women's Apparel              68          83   \n",
       "2  Philadelphia        Women's Apparel              75         275   \n",
       "3      New York  Men's Street Footwear              34         384   \n",
       "4  Philadelphia        Women's Apparel              53          83   \n",
       "\n",
       "   total_sales  operating_profit sales_method  \n",
       "0       600000         300000.00     In-store  \n",
       "1         5644           2426.92       Online  \n",
       "2       206250          61875.00       Outlet  \n",
       "3        13056           6789.12       Outlet  \n",
       "4         4399           1407.68       Outlet  "
      ]
     },
     "execution_count": 116,
     "metadata": {},
     "output_type": "execute_result"
    }
   ],
   "source": [
    "athletic_sales_combined_df.head()"
   ]
  },
  {
   "cell_type": "code",
   "execution_count": 126,
   "metadata": {},
   "outputs": [
    {
     "name": "stdout",
     "output_type": "stream",
     "text": [
      "                           units_sold\n",
      "product                              \n",
      "Men's Apparel                  306683\n",
      "Men's Athletic Footwear        435526\n",
      "Men's Street Footwear          591898\n",
      "Women's Apparel                433827\n",
      "Women's Athletic Footwear      316813\n",
      "Women's Street Footwear        392269\n"
     ]
    }
   ],
   "source": [
    "product_df = athletic_sales_combined_df.pivot_table(index=\"product\", values=\"units_sold\", aggfunc=\"sum\")\n",
    "print(product_df)"
   ]
  },
  {
   "cell_type": "code",
   "execution_count": 151,
   "metadata": {},
   "outputs": [
    {
     "data": {
      "text/html": [
       "<div>\n",
       "<style scoped>\n",
       "    .dataframe tbody tr th:only-of-type {\n",
       "        vertical-align: middle;\n",
       "    }\n",
       "\n",
       "    .dataframe tbody tr th {\n",
       "        vertical-align: top;\n",
       "    }\n",
       "\n",
       "    .dataframe thead th {\n",
       "        text-align: right;\n",
       "    }\n",
       "</style>\n",
       "<table border=\"1\" class=\"dataframe\">\n",
       "  <thead>\n",
       "    <tr style=\"text-align: right;\">\n",
       "      <th></th>\n",
       "      <th>retailer</th>\n",
       "      <th>retailer_id</th>\n",
       "      <th>invoice_date</th>\n",
       "      <th>region</th>\n",
       "      <th>state</th>\n",
       "      <th>city</th>\n",
       "      <th>product</th>\n",
       "      <th>price_per_unit</th>\n",
       "      <th>units_sold</th>\n",
       "      <th>total_sales</th>\n",
       "      <th>operating_profit</th>\n",
       "      <th>sales_method</th>\n",
       "    </tr>\n",
       "  </thead>\n",
       "  <tbody>\n",
       "    <tr>\n",
       "      <th>21</th>\n",
       "      <td>Foot Locker</td>\n",
       "      <td>1185732</td>\n",
       "      <td>2020-01-04</td>\n",
       "      <td>Northeast</td>\n",
       "      <td>New York</td>\n",
       "      <td>New York</td>\n",
       "      <td>Women's Athletic Footwear</td>\n",
       "      <td>36</td>\n",
       "      <td>281</td>\n",
       "      <td>10116</td>\n",
       "      <td>3742.92</td>\n",
       "      <td>Outlet</td>\n",
       "    </tr>\n",
       "    <tr>\n",
       "      <th>22</th>\n",
       "      <td>Foot Locker</td>\n",
       "      <td>1185732</td>\n",
       "      <td>2020-01-04</td>\n",
       "      <td>Northeast</td>\n",
       "      <td>New York</td>\n",
       "      <td>New York</td>\n",
       "      <td>Women's Athletic Footwear</td>\n",
       "      <td>41</td>\n",
       "      <td>247</td>\n",
       "      <td>10127</td>\n",
       "      <td>4658.42</td>\n",
       "      <td>Online</td>\n",
       "    </tr>\n",
       "    <tr>\n",
       "      <th>23</th>\n",
       "      <td>Foot Locker</td>\n",
       "      <td>1185732</td>\n",
       "      <td>2020-01-04</td>\n",
       "      <td>Northeast</td>\n",
       "      <td>New York</td>\n",
       "      <td>New York</td>\n",
       "      <td>Women's Athletic Footwear</td>\n",
       "      <td>45</td>\n",
       "      <td>850</td>\n",
       "      <td>382500</td>\n",
       "      <td>133875.00</td>\n",
       "      <td>In-store</td>\n",
       "    </tr>\n",
       "    <tr>\n",
       "      <th>26</th>\n",
       "      <td>West Gear</td>\n",
       "      <td>1128299</td>\n",
       "      <td>2020-01-05</td>\n",
       "      <td>Northeast</td>\n",
       "      <td>Pennsylvania</td>\n",
       "      <td>Philadelphia</td>\n",
       "      <td>Women's Athletic Footwear</td>\n",
       "      <td>45</td>\n",
       "      <td>300</td>\n",
       "      <td>135000</td>\n",
       "      <td>47250.00</td>\n",
       "      <td>Outlet</td>\n",
       "    </tr>\n",
       "    <tr>\n",
       "      <th>27</th>\n",
       "      <td>West Gear</td>\n",
       "      <td>1128299</td>\n",
       "      <td>2020-01-05</td>\n",
       "      <td>Northeast</td>\n",
       "      <td>Pennsylvania</td>\n",
       "      <td>Philadelphia</td>\n",
       "      <td>Women's Athletic Footwear</td>\n",
       "      <td>34</td>\n",
       "      <td>90</td>\n",
       "      <td>3060</td>\n",
       "      <td>1254.60</td>\n",
       "      <td>Outlet</td>\n",
       "    </tr>\n",
       "  </tbody>\n",
       "</table>\n",
       "</div>"
      ],
      "text/plain": [
       "       retailer  retailer_id invoice_date     region         state  \\\n",
       "21  Foot Locker      1185732   2020-01-04  Northeast      New York   \n",
       "22  Foot Locker      1185732   2020-01-04  Northeast      New York   \n",
       "23  Foot Locker      1185732   2020-01-04  Northeast      New York   \n",
       "26    West Gear      1128299   2020-01-05  Northeast  Pennsylvania   \n",
       "27    West Gear      1128299   2020-01-05  Northeast  Pennsylvania   \n",
       "\n",
       "            city                    product  price_per_unit  units_sold  \\\n",
       "21      New York  Women's Athletic Footwear              36         281   \n",
       "22      New York  Women's Athletic Footwear              41         247   \n",
       "23      New York  Women's Athletic Footwear              45         850   \n",
       "26  Philadelphia  Women's Athletic Footwear              45         300   \n",
       "27  Philadelphia  Women's Athletic Footwear              34          90   \n",
       "\n",
       "    total_sales  operating_profit sales_method  \n",
       "21        10116           3742.92       Outlet  \n",
       "22        10127           4658.42       Online  \n",
       "23       382500         133875.00     In-store  \n",
       "26       135000          47250.00       Outlet  \n",
       "27         3060           1254.60       Outlet  "
      ]
     },
     "execution_count": 151,
     "metadata": {},
     "output_type": "execute_result"
    }
   ],
   "source": [
    "womens_athletic_footwear_df = athletic_sales_combined_df[athletic_sales_combined_df['product'] == \"Women's Athletic Footwear\"]\n",
    "womens_athletic_footwear_df.head()"
   ]
  },
  {
   "cell_type": "code",
   "execution_count": 152,
   "metadata": {},
   "outputs": [
    {
     "data": {
      "text/plain": [
       "Index(['retailer', 'retailer_id', 'invoice_date', 'region', 'state', 'city',\n",
       "       'product', 'price_per_unit', 'units_sold', 'total_sales',\n",
       "       'operating_profit', 'sales_method'],\n",
       "      dtype='object')"
      ]
     },
     "execution_count": 152,
     "metadata": {},
     "output_type": "execute_result"
    }
   ],
   "source": [
    "womens_athletic_footwear_df.columns"
   ]
  },
  {
   "cell_type": "code",
   "execution_count": 162,
   "metadata": {},
   "outputs": [
    {
     "data": {
      "text/plain": [
       "retailer\n",
       "Amazon           22544\n",
       "Foot Locker      73104\n",
       "Kohl's           38094\n",
       "Sports Direct    73697\n",
       "Walmart          26835\n",
       "West Gear        82539\n",
       "Name: units_sold, dtype: int64"
      ]
     },
     "execution_count": 162,
     "metadata": {},
     "output_type": "execute_result"
    }
   ],
   "source": [
    "retailer_womens_athletic = womens_athletic_footwear_df.groupby([\"retailer\"])['units_sold'].sum()\n",
    "retailer_womens_athletic"
   ]
  },
  {
   "cell_type": "code",
   "execution_count": 153,
   "metadata": {},
   "outputs": [
    {
     "name": "stdout",
     "output_type": "stream",
     "text": [
      "Retailer with the Most Products Sold (Women's Athletic Footwear): West Gear\n"
     ]
    }
   ],
   "source": [
    "most_sold_retailer = retailer_womens_athletic.idxmax()\n",
    "print(\"Retailer with the Most Products Sold (Women's Athletic Footwear):\", most_sold_retailer)"
   ]
  },
  {
   "cell_type": "code",
   "execution_count": 154,
   "metadata": {},
   "outputs": [
    {
     "data": {
      "text/html": [
       "<div>\n",
       "<style scoped>\n",
       "    .dataframe tbody tr th:only-of-type {\n",
       "        vertical-align: middle;\n",
       "    }\n",
       "\n",
       "    .dataframe tbody tr th {\n",
       "        vertical-align: top;\n",
       "    }\n",
       "\n",
       "    .dataframe thead th {\n",
       "        text-align: right;\n",
       "    }\n",
       "</style>\n",
       "<table border=\"1\" class=\"dataframe\">\n",
       "  <thead>\n",
       "    <tr style=\"text-align: right;\">\n",
       "      <th></th>\n",
       "      <th>total_sales</th>\n",
       "    </tr>\n",
       "    <tr>\n",
       "      <th>product</th>\n",
       "      <th></th>\n",
       "    </tr>\n",
       "  </thead>\n",
       "  <tbody>\n",
       "    <tr>\n",
       "      <th>Women's Athletic Footwear</th>\n",
       "      <td>106481334</td>\n",
       "    </tr>\n",
       "  </tbody>\n",
       "</table>\n",
       "</div>"
      ],
      "text/plain": [
       "                           total_sales\n",
       "product                               \n",
       "Women's Athletic Footwear    106481334"
      ]
     },
     "execution_count": 154,
     "metadata": {},
     "output_type": "execute_result"
    }
   ],
   "source": [
    "# Filter the sales data to get the women's athletic footwear sales data.\n",
    "sales_womens_df = womens_athletic_footwear_df.pivot_table(index=\"product\", values=\"total_sales\", aggfunc=\"sum\")\n",
    "sales_womens_df\n"
   ]
  },
  {
   "cell_type": "code",
   "execution_count": 155,
   "metadata": {},
   "outputs": [
    {
     "data": {
      "text/html": [
       "<div>\n",
       "<style scoped>\n",
       "    .dataframe tbody tr th:only-of-type {\n",
       "        vertical-align: middle;\n",
       "    }\n",
       "\n",
       "    .dataframe tbody tr th {\n",
       "        vertical-align: top;\n",
       "    }\n",
       "\n",
       "    .dataframe thead th {\n",
       "        text-align: right;\n",
       "    }\n",
       "</style>\n",
       "<table border=\"1\" class=\"dataframe\">\n",
       "  <thead>\n",
       "    <tr style=\"text-align: right;\">\n",
       "      <th></th>\n",
       "      <th>total_sales</th>\n",
       "    </tr>\n",
       "    <tr>\n",
       "      <th>region</th>\n",
       "      <th></th>\n",
       "    </tr>\n",
       "  </thead>\n",
       "  <tbody>\n",
       "    <tr>\n",
       "      <th>Midwest</th>\n",
       "      <td>13444606</td>\n",
       "    </tr>\n",
       "    <tr>\n",
       "      <th>Northeast</th>\n",
       "      <td>19796138</td>\n",
       "    </tr>\n",
       "    <tr>\n",
       "      <th>South</th>\n",
       "      <td>18420722</td>\n",
       "    </tr>\n",
       "    <tr>\n",
       "      <th>Southeast</th>\n",
       "      <td>20302798</td>\n",
       "    </tr>\n",
       "    <tr>\n",
       "      <th>West</th>\n",
       "      <td>34517070</td>\n",
       "    </tr>\n",
       "  </tbody>\n",
       "</table>\n",
       "</div>"
      ],
      "text/plain": [
       "           total_sales\n",
       "region                \n",
       "Midwest       13444606\n",
       "Northeast     19796138\n",
       "South         18420722\n",
       "Southeast     20302798\n",
       "West          34517070"
      ]
     },
     "execution_count": 155,
     "metadata": {},
     "output_type": "execute_result"
    }
   ],
   "source": [
    "sales_womens_region_df = womens_athletic_footwear_df.pivot_table(index=\"region\", values=\"total_sales\", aggfunc=\"sum\")\n",
    "sales_womens_region_df"
   ]
  },
  {
   "cell_type": "markdown",
   "metadata": {},
   "source": [
    "#### Using `groupby`"
   ]
  },
  {
   "cell_type": "code",
   "execution_count": 132,
   "metadata": {},
   "outputs": [
    {
     "data": {
      "text/html": [
       "<div>\n",
       "<style scoped>\n",
       "    .dataframe tbody tr th:only-of-type {\n",
       "        vertical-align: middle;\n",
       "    }\n",
       "\n",
       "    .dataframe tbody tr th {\n",
       "        vertical-align: top;\n",
       "    }\n",
       "\n",
       "    .dataframe thead th {\n",
       "        text-align: right;\n",
       "    }\n",
       "</style>\n",
       "<table border=\"1\" class=\"dataframe\">\n",
       "  <thead>\n",
       "    <tr style=\"text-align: right;\">\n",
       "      <th></th>\n",
       "      <th>retailer</th>\n",
       "      <th>region</th>\n",
       "      <th>state</th>\n",
       "      <th>city</th>\n",
       "      <th>units_sold</th>\n",
       "    </tr>\n",
       "  </thead>\n",
       "  <tbody>\n",
       "    <tr>\n",
       "      <th>0</th>\n",
       "      <td>Amazon</td>\n",
       "      <td>Midwest</td>\n",
       "      <td>Ohio</td>\n",
       "      <td>Columbus</td>\n",
       "      <td>5801</td>\n",
       "    </tr>\n",
       "    <tr>\n",
       "      <th>1</th>\n",
       "      <td>Amazon</td>\n",
       "      <td>Northeast</td>\n",
       "      <td>Maine</td>\n",
       "      <td>Portland</td>\n",
       "      <td>1841</td>\n",
       "    </tr>\n",
       "    <tr>\n",
       "      <th>2</th>\n",
       "      <td>Amazon</td>\n",
       "      <td>Northeast</td>\n",
       "      <td>Massachusetts</td>\n",
       "      <td>Boston</td>\n",
       "      <td>1190</td>\n",
       "    </tr>\n",
       "    <tr>\n",
       "      <th>3</th>\n",
       "      <td>Amazon</td>\n",
       "      <td>Northeast</td>\n",
       "      <td>New Hampshire</td>\n",
       "      <td>Manchester</td>\n",
       "      <td>3109</td>\n",
       "    </tr>\n",
       "    <tr>\n",
       "      <th>4</th>\n",
       "      <td>Amazon</td>\n",
       "      <td>Northeast</td>\n",
       "      <td>Vermont</td>\n",
       "      <td>Burlington</td>\n",
       "      <td>4327</td>\n",
       "    </tr>\n",
       "  </tbody>\n",
       "</table>\n",
       "</div>"
      ],
      "text/plain": [
       "  retailer     region          state        city  units_sold\n",
       "0   Amazon    Midwest           Ohio    Columbus        5801\n",
       "1   Amazon  Northeast          Maine    Portland        1841\n",
       "2   Amazon  Northeast  Massachusetts      Boston        1190\n",
       "3   Amazon  Northeast  New Hampshire  Manchester        3109\n",
       "4   Amazon  Northeast        Vermont  Burlington        4327"
      ]
     },
     "execution_count": 132,
     "metadata": {},
     "output_type": "execute_result"
    }
   ],
   "source": [
    "product_by_location = womens_athletic_footwear_df.groupby([\"retailer\", \"region\", \"state\", \"city\"])[\"units_sold\"].sum()\n",
    "product_by_location = product_by_location.reset_index()\n",
    "product_by_location.head()"
   ]
  },
  {
   "cell_type": "code",
   "execution_count": 138,
   "metadata": {},
   "outputs": [
    {
     "data": {
      "text/html": [
       "<div>\n",
       "<style scoped>\n",
       "    .dataframe tbody tr th:only-of-type {\n",
       "        vertical-align: middle;\n",
       "    }\n",
       "\n",
       "    .dataframe tbody tr th {\n",
       "        vertical-align: top;\n",
       "    }\n",
       "\n",
       "    .dataframe thead th {\n",
       "        text-align: right;\n",
       "    }\n",
       "</style>\n",
       "<table border=\"1\" class=\"dataframe\">\n",
       "  <thead>\n",
       "    <tr style=\"text-align: right;\">\n",
       "      <th></th>\n",
       "      <th>retailer</th>\n",
       "      <th>region</th>\n",
       "      <th>state</th>\n",
       "      <th>city</th>\n",
       "      <th>Womens_Footwear_Units_Sold</th>\n",
       "    </tr>\n",
       "  </thead>\n",
       "  <tbody>\n",
       "    <tr>\n",
       "      <th>101</th>\n",
       "      <td>West Gear</td>\n",
       "      <td>West</td>\n",
       "      <td>California</td>\n",
       "      <td>San Francisco</td>\n",
       "      <td>12107</td>\n",
       "    </tr>\n",
       "    <tr>\n",
       "      <th>22</th>\n",
       "      <td>Foot Locker</td>\n",
       "      <td>Northeast</td>\n",
       "      <td>New York</td>\n",
       "      <td>New York</td>\n",
       "      <td>10996</td>\n",
       "    </tr>\n",
       "    <tr>\n",
       "      <th>49</th>\n",
       "      <td>Kohl's</td>\n",
       "      <td>West</td>\n",
       "      <td>California</td>\n",
       "      <td>Los Angeles</td>\n",
       "      <td>10826</td>\n",
       "    </tr>\n",
       "    <tr>\n",
       "      <th>33</th>\n",
       "      <td>Foot Locker</td>\n",
       "      <td>Southeast</td>\n",
       "      <td>South Carolina</td>\n",
       "      <td>Charleston</td>\n",
       "      <td>8814</td>\n",
       "    </tr>\n",
       "    <tr>\n",
       "      <th>68</th>\n",
       "      <td>Sports Direct</td>\n",
       "      <td>South</td>\n",
       "      <td>Texas</td>\n",
       "      <td>Dallas</td>\n",
       "      <td>8790</td>\n",
       "    </tr>\n",
       "  </tbody>\n",
       "</table>\n",
       "</div>"
      ],
      "text/plain": [
       "          retailer     region           state           city  \\\n",
       "101      West Gear       West      California  San Francisco   \n",
       "22     Foot Locker  Northeast        New York       New York   \n",
       "49          Kohl's       West      California    Los Angeles   \n",
       "33     Foot Locker  Southeast  South Carolina     Charleston   \n",
       "68   Sports Direct      South           Texas         Dallas   \n",
       "\n",
       "     Womens_Footwear_Units_Sold  \n",
       "101                       12107  \n",
       "22                        10996  \n",
       "49                        10826  \n",
       "33                         8814  \n",
       "68                         8790  "
      ]
     },
     "execution_count": 138,
     "metadata": {},
     "output_type": "execute_result"
    }
   ],
   "source": [
    "product_by_location_sorted_df = product_by_location.sort_values(by=\"units_sold\", ascending=False)\n",
    "product_by_location_sorted_df.rename(columns={\"units_sold\": \"Womens_Footwear_Units_Sold\"}, inplace=True)\n",
    "\n",
    "top5_product = product_by_location_sorted_df.head(5)\n",
    "top5_product"
   ]
  },
  {
   "cell_type": "code",
   "execution_count": 139,
   "metadata": {},
   "outputs": [
    {
     "data": {
      "text/html": [
       "<div>\n",
       "<style scoped>\n",
       "    .dataframe tbody tr th:only-of-type {\n",
       "        vertical-align: middle;\n",
       "    }\n",
       "\n",
       "    .dataframe tbody tr th {\n",
       "        vertical-align: top;\n",
       "    }\n",
       "\n",
       "    .dataframe thead th {\n",
       "        text-align: right;\n",
       "    }\n",
       "</style>\n",
       "<table border=\"1\" class=\"dataframe\">\n",
       "  <thead>\n",
       "    <tr style=\"text-align: right;\">\n",
       "      <th></th>\n",
       "      <th>retailer</th>\n",
       "      <th>region</th>\n",
       "      <th>state</th>\n",
       "      <th>city</th>\n",
       "      <th>Womens_Footwear_Units_Sold</th>\n",
       "    </tr>\n",
       "  </thead>\n",
       "  <tbody>\n",
       "    <tr>\n",
       "      <th>101</th>\n",
       "      <td>West Gear</td>\n",
       "      <td>West</td>\n",
       "      <td>California</td>\n",
       "      <td>San Francisco</td>\n",
       "      <td>12107</td>\n",
       "    </tr>\n",
       "    <tr>\n",
       "      <th>22</th>\n",
       "      <td>Foot Locker</td>\n",
       "      <td>Northeast</td>\n",
       "      <td>New York</td>\n",
       "      <td>New York</td>\n",
       "      <td>10996</td>\n",
       "    </tr>\n",
       "    <tr>\n",
       "      <th>49</th>\n",
       "      <td>Kohl's</td>\n",
       "      <td>West</td>\n",
       "      <td>California</td>\n",
       "      <td>Los Angeles</td>\n",
       "      <td>10826</td>\n",
       "    </tr>\n",
       "    <tr>\n",
       "      <th>33</th>\n",
       "      <td>Foot Locker</td>\n",
       "      <td>Southeast</td>\n",
       "      <td>South Carolina</td>\n",
       "      <td>Charleston</td>\n",
       "      <td>8814</td>\n",
       "    </tr>\n",
       "    <tr>\n",
       "      <th>68</th>\n",
       "      <td>Sports Direct</td>\n",
       "      <td>South</td>\n",
       "      <td>Texas</td>\n",
       "      <td>Dallas</td>\n",
       "      <td>8790</td>\n",
       "    </tr>\n",
       "  </tbody>\n",
       "</table>\n",
       "</div>"
      ],
      "text/plain": [
       "          retailer     region           state           city  \\\n",
       "101      West Gear       West      California  San Francisco   \n",
       "22     Foot Locker  Northeast        New York       New York   \n",
       "49          Kohl's       West      California    Los Angeles   \n",
       "33     Foot Locker  Southeast  South Carolina     Charleston   \n",
       "68   Sports Direct      South           Texas         Dallas   \n",
       "\n",
       "     Womens_Footwear_Units_Sold  \n",
       "101                       12107  \n",
       "22                        10996  \n",
       "49                        10826  \n",
       "33                         8814  \n",
       "68                         8790  "
      ]
     },
     "execution_count": 139,
     "metadata": {},
     "output_type": "execute_result"
    }
   ],
   "source": [
    "# Show the total number of women's athletic footwear sold for each retailer, region, state, and city.\n",
    "# Rename the \"units_sold\" column to \"Womens_Footwear_Units_Sold\"\n",
    "\n",
    "# Show the top 5 results.\n",
    "top5_product"
   ]
  },
  {
   "cell_type": "markdown",
   "metadata": {},
   "source": [
    "#### Using `pivot_table`"
   ]
  },
  {
   "cell_type": "code",
   "execution_count": 20,
   "metadata": {},
   "outputs": [],
   "source": [
    "# Show the total number of women's athletic footwear sold for each retailer, region, state, and city.\n",
    "# Rename the \"units_sold\" column to \"Womens_Footwear_Units_Sold\"\n",
    "# Show the top 5 results."
   ]
  },
  {
   "cell_type": "markdown",
   "metadata": {},
   "source": [
    "### 5. Determine the Day with the Most Women's Athletic Footwear Sales"
   ]
  },
  {
   "cell_type": "code",
   "execution_count": 207,
   "metadata": {},
   "outputs": [],
   "source": [
    "invoicedate_wfootwear_df = athletic_sales_combined_df.pivot_table(index=[\"invoice_date\"], values=\"total_sales\", aggfunc=\"sum\")\n",
    "invoicedate_wfootwear_df.rename(columns={\"total_sales\": \"Total Sales\"}, inplace=True)\n"
   ]
  },
  {
   "cell_type": "code",
   "execution_count": 235,
   "metadata": {},
   "outputs": [
    {
     "data": {
      "text/html": [
       "<div>\n",
       "<style scoped>\n",
       "    .dataframe tbody tr th:only-of-type {\n",
       "        vertical-align: middle;\n",
       "    }\n",
       "\n",
       "    .dataframe tbody tr th {\n",
       "        vertical-align: top;\n",
       "    }\n",
       "\n",
       "    .dataframe thead th {\n",
       "        text-align: right;\n",
       "    }\n",
       "</style>\n",
       "<table border=\"1\" class=\"dataframe\">\n",
       "  <thead>\n",
       "    <tr style=\"text-align: right;\">\n",
       "      <th></th>\n",
       "      <th>Total Sales</th>\n",
       "    </tr>\n",
       "    <tr>\n",
       "      <th>invoice_date</th>\n",
       "      <th></th>\n",
       "    </tr>\n",
       "  </thead>\n",
       "  <tbody>\n",
       "    <tr>\n",
       "      <th>2020-01-01</th>\n",
       "      <td>845141</td>\n",
       "    </tr>\n",
       "    <tr>\n",
       "      <th>2020-01-02</th>\n",
       "      <td>689410</td>\n",
       "    </tr>\n",
       "    <tr>\n",
       "      <th>2020-01-03</th>\n",
       "      <td>632573</td>\n",
       "    </tr>\n",
       "    <tr>\n",
       "      <th>2020-01-04</th>\n",
       "      <td>615080</td>\n",
       "    </tr>\n",
       "    <tr>\n",
       "      <th>2020-01-05</th>\n",
       "      <td>707829</td>\n",
       "    </tr>\n",
       "    <tr>\n",
       "      <th>2020-01-06</th>\n",
       "      <td>655750</td>\n",
       "    </tr>\n",
       "    <tr>\n",
       "      <th>2020-01-07</th>\n",
       "      <td>877176</td>\n",
       "    </tr>\n",
       "    <tr>\n",
       "      <th>2020-01-08</th>\n",
       "      <td>668084</td>\n",
       "    </tr>\n",
       "    <tr>\n",
       "      <th>2020-01-09</th>\n",
       "      <td>201829</td>\n",
       "    </tr>\n",
       "    <tr>\n",
       "      <th>2020-01-10</th>\n",
       "      <td>200469</td>\n",
       "    </tr>\n",
       "  </tbody>\n",
       "</table>\n",
       "</div>"
      ],
      "text/plain": [
       "              Total Sales\n",
       "invoice_date             \n",
       "2020-01-01         845141\n",
       "2020-01-02         689410\n",
       "2020-01-03         632573\n",
       "2020-01-04         615080\n",
       "2020-01-05         707829\n",
       "2020-01-06         655750\n",
       "2020-01-07         877176\n",
       "2020-01-08         668084\n",
       "2020-01-09         201829\n",
       "2020-01-10         200469"
      ]
     },
     "execution_count": 235,
     "metadata": {},
     "output_type": "execute_result"
    }
   ],
   "source": [
    "daily_sales = invoicedate_wfootwear_df.resample('D').sum()\n",
    "\n",
    "daily_sales.head(10)"
   ]
  },
  {
   "cell_type": "code",
   "execution_count": 243,
   "metadata": {},
   "outputs": [
    {
     "name": "stdout",
     "output_type": "stream",
     "text": [
      "Top 10 dates with the most sales\n"
     ]
    },
    {
     "data": {
      "text/html": [
       "<div>\n",
       "<style scoped>\n",
       "    .dataframe tbody tr th:only-of-type {\n",
       "        vertical-align: middle;\n",
       "    }\n",
       "\n",
       "    .dataframe tbody tr th {\n",
       "        vertical-align: top;\n",
       "    }\n",
       "\n",
       "    .dataframe thead th {\n",
       "        text-align: right;\n",
       "    }\n",
       "</style>\n",
       "<table border=\"1\" class=\"dataframe\">\n",
       "  <thead>\n",
       "    <tr style=\"text-align: right;\">\n",
       "      <th></th>\n",
       "      <th>Total Sales</th>\n",
       "    </tr>\n",
       "    <tr>\n",
       "      <th>invoice_date</th>\n",
       "      <th></th>\n",
       "    </tr>\n",
       "  </thead>\n",
       "  <tbody>\n",
       "    <tr>\n",
       "      <th>2021-07-16</th>\n",
       "      <td>12261098</td>\n",
       "    </tr>\n",
       "    <tr>\n",
       "      <th>2021-12-16</th>\n",
       "      <td>10871121</td>\n",
       "    </tr>\n",
       "    <tr>\n",
       "      <th>2021-06-17</th>\n",
       "      <td>10239903</td>\n",
       "    </tr>\n",
       "    <tr>\n",
       "      <th>2021-08-17</th>\n",
       "      <td>9517031</td>\n",
       "    </tr>\n",
       "    <tr>\n",
       "      <th>2021-07-23</th>\n",
       "      <td>7689134</td>\n",
       "    </tr>\n",
       "    <tr>\n",
       "      <th>2021-11-17</th>\n",
       "      <td>7298791</td>\n",
       "    </tr>\n",
       "    <tr>\n",
       "      <th>2021-12-09</th>\n",
       "      <td>7257917</td>\n",
       "    </tr>\n",
       "    <tr>\n",
       "      <th>2020-04-24</th>\n",
       "      <td>7050982</td>\n",
       "    </tr>\n",
       "    <tr>\n",
       "      <th>2021-07-09</th>\n",
       "      <td>6854359</td>\n",
       "    </tr>\n",
       "    <tr>\n",
       "      <th>2021-06-24</th>\n",
       "      <td>6428692</td>\n",
       "    </tr>\n",
       "  </tbody>\n",
       "</table>\n",
       "</div>"
      ],
      "text/plain": [
       "              Total Sales\n",
       "invoice_date             \n",
       "2021-07-16       12261098\n",
       "2021-12-16       10871121\n",
       "2021-06-17       10239903\n",
       "2021-08-17        9517031\n",
       "2021-07-23        7689134\n",
       "2021-11-17        7298791\n",
       "2021-12-09        7257917\n",
       "2020-04-24        7050982\n",
       "2021-07-09        6854359\n",
       "2021-06-24        6428692"
      ]
     },
     "execution_count": 243,
     "metadata": {},
     "output_type": "execute_result"
    }
   ],
   "source": [
    "top_10_dates = daily_sales.sort_values(by=\"Total Sales\",ascending=False).head(10)\n",
    "print(\"Top 10 dates with the most sales\")\n",
    "top_10_dates"
   ]
  },
  {
   "cell_type": "code",
   "execution_count": 219,
   "metadata": {},
   "outputs": [],
   "source": [
    "sales_by_week = athletic_sales_combined_df.pivot_table(index=[\"invoice_date\"], values=\"total_sales\", aggfunc=\"sum\")"
   ]
  },
  {
   "cell_type": "code",
   "execution_count": 244,
   "metadata": {},
   "outputs": [],
   "source": [
    "weekly_sales = sales_by_week.resample('W').sum()\n",
    "weekly_sales.rename(columns={\"total_sales\": \"Total Sales\"}, inplace=True)\n",
    "top10_weeks = weekly_sales.head(10)"
   ]
  },
  {
   "cell_type": "code",
   "execution_count": 245,
   "metadata": {},
   "outputs": [
    {
     "name": "stdout",
     "output_type": "stream",
     "text": [
      "Top 10 weeks with the most sales\n"
     ]
    },
    {
     "data": {
      "text/html": [
       "<div>\n",
       "<style scoped>\n",
       "    .dataframe tbody tr th:only-of-type {\n",
       "        vertical-align: middle;\n",
       "    }\n",
       "\n",
       "    .dataframe tbody tr th {\n",
       "        vertical-align: top;\n",
       "    }\n",
       "\n",
       "    .dataframe thead th {\n",
       "        text-align: right;\n",
       "    }\n",
       "</style>\n",
       "<table border=\"1\" class=\"dataframe\">\n",
       "  <thead>\n",
       "    <tr style=\"text-align: right;\">\n",
       "      <th></th>\n",
       "      <th>Total Sales</th>\n",
       "    </tr>\n",
       "    <tr>\n",
       "      <th>invoice_date</th>\n",
       "      <th></th>\n",
       "    </tr>\n",
       "  </thead>\n",
       "  <tbody>\n",
       "    <tr>\n",
       "      <th>2020-01-05</th>\n",
       "      <td>3490033</td>\n",
       "    </tr>\n",
       "    <tr>\n",
       "      <th>2020-01-12</th>\n",
       "      <td>2837846</td>\n",
       "    </tr>\n",
       "    <tr>\n",
       "      <th>2020-01-19</th>\n",
       "      <td>1410638</td>\n",
       "    </tr>\n",
       "    <tr>\n",
       "      <th>2020-01-26</th>\n",
       "      <td>4831822</td>\n",
       "    </tr>\n",
       "    <tr>\n",
       "      <th>2020-02-02</th>\n",
       "      <td>5353189</td>\n",
       "    </tr>\n",
       "    <tr>\n",
       "      <th>2020-02-09</th>\n",
       "      <td>6234951</td>\n",
       "    </tr>\n",
       "    <tr>\n",
       "      <th>2020-02-16</th>\n",
       "      <td>3235124</td>\n",
       "    </tr>\n",
       "    <tr>\n",
       "      <th>2020-02-23</th>\n",
       "      <td>2325075</td>\n",
       "    </tr>\n",
       "    <tr>\n",
       "      <th>2020-03-01</th>\n",
       "      <td>1770795</td>\n",
       "    </tr>\n",
       "    <tr>\n",
       "      <th>2020-03-08</th>\n",
       "      <td>5771565</td>\n",
       "    </tr>\n",
       "  </tbody>\n",
       "</table>\n",
       "</div>"
      ],
      "text/plain": [
       "              Total Sales\n",
       "invoice_date             \n",
       "2020-01-05        3490033\n",
       "2020-01-12        2837846\n",
       "2020-01-19        1410638\n",
       "2020-01-26        4831822\n",
       "2020-02-02        5353189\n",
       "2020-02-09        6234951\n",
       "2020-02-16        3235124\n",
       "2020-02-23        2325075\n",
       "2020-03-01        1770795\n",
       "2020-03-08        5771565"
      ]
     },
     "execution_count": 245,
     "metadata": {},
     "output_type": "execute_result"
    }
   ],
   "source": [
    "print(\"Top 10 weeks with the most sales\")\n",
    "top10_weeks\n",
    "# elphys notes: why does my table not look the same as in the module picture example :(! \n",
    "# the dates are similar to the pic but not the total sales. "
   ]
  },
  {
   "cell_type": "code",
   "execution_count": 189,
   "metadata": {},
   "outputs": [
    {
     "data": {
      "text/html": [
       "<div>\n",
       "<style scoped>\n",
       "    .dataframe tbody tr th:only-of-type {\n",
       "        vertical-align: middle;\n",
       "    }\n",
       "\n",
       "    .dataframe tbody tr th {\n",
       "        vertical-align: top;\n",
       "    }\n",
       "\n",
       "    .dataframe thead th {\n",
       "        text-align: right;\n",
       "    }\n",
       "</style>\n",
       "<table border=\"1\" class=\"dataframe\">\n",
       "  <thead>\n",
       "    <tr style=\"text-align: right;\">\n",
       "      <th></th>\n",
       "      <th>Total Sales</th>\n",
       "    </tr>\n",
       "    <tr>\n",
       "      <th>invoice_date</th>\n",
       "      <th></th>\n",
       "    </tr>\n",
       "  </thead>\n",
       "  <tbody>\n",
       "    <tr>\n",
       "      <th>2020-01-05</th>\n",
       "      <td>3490033</td>\n",
       "    </tr>\n",
       "    <tr>\n",
       "      <th>2020-01-12</th>\n",
       "      <td>2837846</td>\n",
       "    </tr>\n",
       "    <tr>\n",
       "      <th>2020-01-19</th>\n",
       "      <td>1410638</td>\n",
       "    </tr>\n",
       "    <tr>\n",
       "      <th>2020-01-26</th>\n",
       "      <td>4831822</td>\n",
       "    </tr>\n",
       "    <tr>\n",
       "      <th>2020-02-02</th>\n",
       "      <td>5353189</td>\n",
       "    </tr>\n",
       "  </tbody>\n",
       "</table>\n",
       "</div>"
      ],
      "text/plain": [
       "              Total Sales\n",
       "invoice_date             \n",
       "2020-01-05        3490033\n",
       "2020-01-12        2837846\n",
       "2020-01-19        1410638\n",
       "2020-01-26        4831822\n",
       "2020-02-02        5353189"
      ]
     },
     "execution_count": 189,
     "metadata": {},
     "output_type": "execute_result"
    }
   ],
   "source": [
    "# Create a pivot table with the 'invoice_date' column is the index, and the \"total_sales\" as the values.\n",
    "# Optional: Rename the \"total_sales\" column to \"Total Sales\"\n",
    "# Show the table.\n",
    "weekly_sales.head(5)"
   ]
  },
  {
   "cell_type": "code",
   "execution_count": 205,
   "metadata": {},
   "outputs": [
    {
     "data": {
      "text/html": [
       "<div>\n",
       "<style scoped>\n",
       "    .dataframe tbody tr th:only-of-type {\n",
       "        vertical-align: middle;\n",
       "    }\n",
       "\n",
       "    .dataframe tbody tr th {\n",
       "        vertical-align: top;\n",
       "    }\n",
       "\n",
       "    .dataframe thead th {\n",
       "        text-align: right;\n",
       "    }\n",
       "</style>\n",
       "<table border=\"1\" class=\"dataframe\">\n",
       "  <thead>\n",
       "    <tr style=\"text-align: right;\">\n",
       "      <th></th>\n",
       "      <th>Total Sales</th>\n",
       "    </tr>\n",
       "    <tr>\n",
       "      <th>invoice_date</th>\n",
       "      <th></th>\n",
       "    </tr>\n",
       "  </thead>\n",
       "  <tbody>\n",
       "    <tr>\n",
       "      <th>2020-12-13</th>\n",
       "      <td>26922</td>\n",
       "    </tr>\n",
       "    <tr>\n",
       "      <th>2020-12-07</th>\n",
       "      <td>31994</td>\n",
       "    </tr>\n",
       "    <tr>\n",
       "      <th>2020-12-14</th>\n",
       "      <td>34529</td>\n",
       "    </tr>\n",
       "    <tr>\n",
       "      <th>2020-12-12</th>\n",
       "      <td>35800</td>\n",
       "    </tr>\n",
       "    <tr>\n",
       "      <th>2020-12-06</th>\n",
       "      <td>38484</td>\n",
       "    </tr>\n",
       "    <tr>\n",
       "      <th>2020-12-08</th>\n",
       "      <td>44838</td>\n",
       "    </tr>\n",
       "    <tr>\n",
       "      <th>2021-12-18</th>\n",
       "      <td>52752</td>\n",
       "    </tr>\n",
       "    <tr>\n",
       "      <th>2020-11-19</th>\n",
       "      <td>53940</td>\n",
       "    </tr>\n",
       "    <tr>\n",
       "      <th>2020-12-18</th>\n",
       "      <td>59368</td>\n",
       "    </tr>\n",
       "    <tr>\n",
       "      <th>2020-12-19</th>\n",
       "      <td>61710</td>\n",
       "    </tr>\n",
       "  </tbody>\n",
       "</table>\n",
       "</div>"
      ],
      "text/plain": [
       "              Total Sales\n",
       "invoice_date             \n",
       "2020-12-13          26922\n",
       "2020-12-07          31994\n",
       "2020-12-14          34529\n",
       "2020-12-12          35800\n",
       "2020-12-06          38484\n",
       "2020-12-08          44838\n",
       "2021-12-18          52752\n",
       "2020-11-19          53940\n",
       "2020-12-18          59368\n",
       "2020-12-19          61710"
      ]
     },
     "execution_count": 205,
     "metadata": {},
     "output_type": "execute_result"
    }
   ],
   "source": [
    "# Resample the pivot table into daily bins, and get the total sales for each day.\n",
    "# Sort the resampled pivot table in ascending order on \"Total Sales\".\n",
    "sorted_invoicedate_wfootwear_df = invoicedate_wfootwear_df.sort_values(by=\"Total Sales\", ascending=True)\n",
    "sorted_invoicedate_wfootwear_df.head(10)"
   ]
  },
  {
   "cell_type": "code",
   "execution_count": 194,
   "metadata": {},
   "outputs": [
    {
     "data": {
      "text/html": [
       "<div>\n",
       "<style scoped>\n",
       "    .dataframe tbody tr th:only-of-type {\n",
       "        vertical-align: middle;\n",
       "    }\n",
       "\n",
       "    .dataframe tbody tr th {\n",
       "        vertical-align: top;\n",
       "    }\n",
       "\n",
       "    .dataframe thead th {\n",
       "        text-align: right;\n",
       "    }\n",
       "</style>\n",
       "<table border=\"1\" class=\"dataframe\">\n",
       "  <thead>\n",
       "    <tr style=\"text-align: right;\">\n",
       "      <th></th>\n",
       "      <th>Total Sales</th>\n",
       "    </tr>\n",
       "    <tr>\n",
       "      <th>invoice_date</th>\n",
       "      <th></th>\n",
       "    </tr>\n",
       "  </thead>\n",
       "  <tbody>\n",
       "    <tr>\n",
       "      <th>2021-07-16</th>\n",
       "      <td>12261098</td>\n",
       "    </tr>\n",
       "    <tr>\n",
       "      <th>2021-12-16</th>\n",
       "      <td>10871121</td>\n",
       "    </tr>\n",
       "    <tr>\n",
       "      <th>2021-06-17</th>\n",
       "      <td>10239903</td>\n",
       "    </tr>\n",
       "    <tr>\n",
       "      <th>2021-08-17</th>\n",
       "      <td>9517031</td>\n",
       "    </tr>\n",
       "    <tr>\n",
       "      <th>2021-07-23</th>\n",
       "      <td>7689134</td>\n",
       "    </tr>\n",
       "    <tr>\n",
       "      <th>2021-11-17</th>\n",
       "      <td>7298791</td>\n",
       "    </tr>\n",
       "    <tr>\n",
       "      <th>2021-12-09</th>\n",
       "      <td>7257917</td>\n",
       "    </tr>\n",
       "    <tr>\n",
       "      <th>2020-04-24</th>\n",
       "      <td>7050982</td>\n",
       "    </tr>\n",
       "    <tr>\n",
       "      <th>2021-07-09</th>\n",
       "      <td>6854359</td>\n",
       "    </tr>\n",
       "    <tr>\n",
       "      <th>2021-06-24</th>\n",
       "      <td>6428692</td>\n",
       "    </tr>\n",
       "  </tbody>\n",
       "</table>\n",
       "</div>"
      ],
      "text/plain": [
       "              Total Sales\n",
       "invoice_date             \n",
       "2021-07-16       12261098\n",
       "2021-12-16       10871121\n",
       "2021-06-17       10239903\n",
       "2021-08-17        9517031\n",
       "2021-07-23        7689134\n",
       "2021-11-17        7298791\n",
       "2021-12-09        7257917\n",
       "2020-04-24        7050982\n",
       "2021-07-09        6854359\n",
       "2021-06-24        6428692"
      ]
     },
     "execution_count": 194,
     "metadata": {},
     "output_type": "execute_result"
    }
   ],
   "source": [
    "sorted2_invoicedate_wfootwear_df = invoicedate_wfootwear_df.sort_values(by=\"Total Sales\", ascending=False)\n",
    "top_date = sorted2_invoicedate_wfootwear_df.head(10)"
   ]
  },
  {
   "cell_type": "markdown",
   "metadata": {},
   "source": [
    "### 6.  Determine the Week with the Most Women's Athletic Footwear Sales"
   ]
  },
  {
   "cell_type": "code",
   "execution_count": 23,
   "metadata": {},
   "outputs": [],
   "source": [
    "# Resample the pivot table into weekly bins, and get the total sales for each week.\n",
    "# Sort the resampled pivot table in ascending order on \"Total Sales\".\n",
    " \n",
    "# elphys notes: on the module HW, it says \"Sort the resampled DataFrame in descending order to show the top 10 weeks\"that generated the most women's athletic footwear sales. Your final table should look like the following image:\"\n",
    "# and here it says ascending"
   ]
  },
  {
   "cell_type": "code",
   "execution_count": 185,
   "metadata": {},
   "outputs": [
    {
     "data": {
      "text/html": [
       "<div>\n",
       "<style scoped>\n",
       "    .dataframe tbody tr th:only-of-type {\n",
       "        vertical-align: middle;\n",
       "    }\n",
       "\n",
       "    .dataframe tbody tr th {\n",
       "        vertical-align: top;\n",
       "    }\n",
       "\n",
       "    .dataframe thead th {\n",
       "        text-align: right;\n",
       "    }\n",
       "</style>\n",
       "<table border=\"1\" class=\"dataframe\">\n",
       "  <thead>\n",
       "    <tr style=\"text-align: right;\">\n",
       "      <th></th>\n",
       "      <th>Total Sales</th>\n",
       "    </tr>\n",
       "    <tr>\n",
       "      <th>invoice_date</th>\n",
       "      <th></th>\n",
       "    </tr>\n",
       "  </thead>\n",
       "  <tbody>\n",
       "    <tr>\n",
       "      <th>2021-07-11</th>\n",
       "      <td>26271380</td>\n",
       "    </tr>\n",
       "    <tr>\n",
       "      <th>2021-07-18</th>\n",
       "      <td>24731702</td>\n",
       "    </tr>\n",
       "    <tr>\n",
       "      <th>2021-12-19</th>\n",
       "      <td>24698535</td>\n",
       "    </tr>\n",
       "    <tr>\n",
       "      <th>2021-12-12</th>\n",
       "      <td>23250286</td>\n",
       "    </tr>\n",
       "    <tr>\n",
       "      <th>2021-08-22</th>\n",
       "      <td>22225401</td>\n",
       "    </tr>\n",
       "    <tr>\n",
       "      <th>2021-08-15</th>\n",
       "      <td>22037822</td>\n",
       "    </tr>\n",
       "    <tr>\n",
       "      <th>2021-06-13</th>\n",
       "      <td>21183998</td>\n",
       "    </tr>\n",
       "    <tr>\n",
       "      <th>2021-05-16</th>\n",
       "      <td>19779030</td>\n",
       "    </tr>\n",
       "    <tr>\n",
       "      <th>2021-07-25</th>\n",
       "      <td>19581545</td>\n",
       "    </tr>\n",
       "    <tr>\n",
       "      <th>2021-06-20</th>\n",
       "      <td>19085993</td>\n",
       "    </tr>\n",
       "  </tbody>\n",
       "</table>\n",
       "</div>"
      ],
      "text/plain": [
       "              Total Sales\n",
       "invoice_date             \n",
       "2021-07-11       26271380\n",
       "2021-07-18       24731702\n",
       "2021-12-19       24698535\n",
       "2021-12-12       23250286\n",
       "2021-08-22       22225401\n",
       "2021-08-15       22037822\n",
       "2021-06-13       21183998\n",
       "2021-05-16       19779030\n",
       "2021-07-25       19581545\n",
       "2021-06-20       19085993"
      ]
     },
     "execution_count": 185,
     "metadata": {},
     "output_type": "execute_result"
    }
   ],
   "source": [
    "weekly_sales = invoicedate_wfootwear_df.resample('W').sum()\n",
    "top5_weekly_sales = weekly_sales.sort_values(by=\"Total Sales\", ascending=False)\n",
    "top5_weekly_sales.head(10)\n",
    "# top 5 week sales"
   ]
  },
  {
   "cell_type": "code",
   "execution_count": 186,
   "metadata": {},
   "outputs": [
    {
     "data": {
      "text/html": [
       "<div>\n",
       "<style scoped>\n",
       "    .dataframe tbody tr th:only-of-type {\n",
       "        vertical-align: middle;\n",
       "    }\n",
       "\n",
       "    .dataframe tbody tr th {\n",
       "        vertical-align: top;\n",
       "    }\n",
       "\n",
       "    .dataframe thead th {\n",
       "        text-align: right;\n",
       "    }\n",
       "</style>\n",
       "<table border=\"1\" class=\"dataframe\">\n",
       "  <thead>\n",
       "    <tr style=\"text-align: right;\">\n",
       "      <th></th>\n",
       "      <th>Total Sales</th>\n",
       "    </tr>\n",
       "    <tr>\n",
       "      <th>invoice_date</th>\n",
       "      <th></th>\n",
       "    </tr>\n",
       "  </thead>\n",
       "  <tbody>\n",
       "    <tr>\n",
       "      <th>2020-10-18</th>\n",
       "      <td>251468</td>\n",
       "    </tr>\n",
       "    <tr>\n",
       "      <th>2020-12-13</th>\n",
       "      <td>466322</td>\n",
       "    </tr>\n",
       "    <tr>\n",
       "      <th>2020-12-20</th>\n",
       "      <td>590227</td>\n",
       "    </tr>\n",
       "    <tr>\n",
       "      <th>2020-12-06</th>\n",
       "      <td>739673</td>\n",
       "    </tr>\n",
       "    <tr>\n",
       "      <th>2020-11-22</th>\n",
       "      <td>927605</td>\n",
       "    </tr>\n",
       "    <tr>\n",
       "      <th>2020-11-29</th>\n",
       "      <td>1024420</td>\n",
       "    </tr>\n",
       "    <tr>\n",
       "      <th>2020-03-29</th>\n",
       "      <td>1201449</td>\n",
       "    </tr>\n",
       "    <tr>\n",
       "      <th>2020-01-19</th>\n",
       "      <td>1410638</td>\n",
       "    </tr>\n",
       "    <tr>\n",
       "      <th>2022-01-02</th>\n",
       "      <td>1481034</td>\n",
       "    </tr>\n",
       "    <tr>\n",
       "      <th>2020-06-07</th>\n",
       "      <td>1481505</td>\n",
       "    </tr>\n",
       "  </tbody>\n",
       "</table>\n",
       "</div>"
      ],
      "text/plain": [
       "              Total Sales\n",
       "invoice_date             \n",
       "2020-10-18         251468\n",
       "2020-12-13         466322\n",
       "2020-12-20         590227\n",
       "2020-12-06         739673\n",
       "2020-11-22         927605\n",
       "2020-11-29        1024420\n",
       "2020-03-29        1201449\n",
       "2020-01-19        1410638\n",
       "2022-01-02        1481034\n",
       "2020-06-07        1481505"
      ]
     },
     "execution_count": 186,
     "metadata": {},
     "output_type": "execute_result"
    }
   ],
   "source": [
    "ascending_weekly_sales = invoicedate_wfootwear_df.resample('W').sum()\n",
    "top5_weekly_sales = ascending_weekly_sales.sort_values(by=\"Total Sales\", ascending=True)\n",
    "top5_weekly_sales.head(10)"
   ]
  },
  {
   "cell_type": "code",
   "execution_count": 187,
   "metadata": {},
   "outputs": [
    {
     "name": "stdout",
     "output_type": "stream",
     "text": [
      "Week with the most Total Sales   2021-07-11\n",
      "dtype: datetime64[ns]\n"
     ]
    }
   ],
   "source": [
    "week_most_sales = weekly_sales.idxmax()\n",
    "print(\"Week with the most\", week_most_sales)"
   ]
  },
  {
   "cell_type": "code",
   "execution_count": null,
   "metadata": {},
   "outputs": [],
   "source": [
    "# elphys notes\" my weekly and daily top 10 dont look the same but i am not sure why\n",
    "# the dates on the table are the same as the pic on the module but not the total sales amount. \n",
    "# i tried adding unit sold and it was still not the same. \n",
    "# I tested it with total sales and also unit sold to check if it was a mistake in the module \n",
    "# and the numbers were still not the same\n",
    "# what did I do wrong? :( "
   ]
  }
 ],
 "metadata": {
  "kernelspec": {
   "display_name": "Python 3 (ipykernel)",
   "language": "python",
   "name": "python3"
  },
  "language_info": {
   "codemirror_mode": {
    "name": "ipython",
    "version": 3
   },
   "file_extension": ".py",
   "mimetype": "text/x-python",
   "name": "python",
   "nbconvert_exporter": "python",
   "pygments_lexer": "ipython3",
   "version": "3.11.7"
  }
 },
 "nbformat": 4,
 "nbformat_minor": 4
}
